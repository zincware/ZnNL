{
 "cells": [
  {
   "cell_type": "markdown",
   "id": "a5ba73c9",
   "metadata": {},
   "source": [
    "# Custom Data Generator\n",
    "\n",
    "Here we will demonstrate how to create a custom data generator."
   ]
  },
  {
   "cell_type": "code",
   "execution_count": 6,
   "id": "457bf0fa",
   "metadata": {},
   "outputs": [
    {
     "name": "stdout",
     "output_type": "stream",
     "text": [
      "Using: cpu\n"
     ]
    }
   ],
   "source": [
    "import os\n",
    "os.environ['CUDA_VISIBLE_DEVICES'] = '-1'\n",
    "\n",
    "import pandas as pd\n",
    "import numpy as np\n",
    "import znrnd\n",
    "\n",
    "import optax\n",
    "from neural_tangents import stax\n",
    "\n",
    "from jax.lib import xla_bridge\n",
    "\n",
    "print(f\"Using: {xla_bridge.get_backend().platform}\")"
   ]
  },
  {
   "cell_type": "markdown",
   "id": "1c3af1b3",
   "metadata": {},
   "source": [
    "### Download the dataset"
   ]
  },
  {
   "cell_type": "code",
   "execution_count": 7,
   "id": "ec1952c1",
   "metadata": {},
   "outputs": [],
   "source": [
    "url = 'http://archive.ics.uci.edu/ml/machine-learning-databases/auto-mpg/auto-mpg.data'\n",
    "column_names = ['MPG', 'Cylinders', 'Displacement', 'Horsepower', 'Weight',\n",
    "                'Acceleration', 'Model Year', 'Origin']\n",
    "\n",
    "raw_dataset = pd.read_csv(url, names=column_names,\n",
    "                          na_values='?', comment='\\t',\n",
    "                          sep=' ', skipinitialspace=True)"
   ]
  },
  {
   "cell_type": "markdown",
   "id": "8425aef3",
   "metadata": {},
   "source": [
    "### Post-process the data here"
   ]
  },
  {
   "cell_type": "code",
   "execution_count": 8,
   "id": "f84cd364",
   "metadata": {},
   "outputs": [],
   "source": [
    "dataset = raw_dataset.copy()\n",
    "dataset = dataset.dropna()\n",
    "dataset['Origin'] = dataset['Origin'].map({1: 'USA', 2: 'Europe', 3: 'Japan'})\n",
    "dataset = pd.get_dummies(dataset, columns=['Origin'], prefix='', prefix_sep='')\n",
    "\n",
    "\n",
    "dataset = (dataset-dataset.mean())/dataset.std()"
   ]
  },
  {
   "cell_type": "markdown",
   "id": "ac303f99",
   "metadata": {},
   "source": [
    "### Create the data generator"
   ]
  },
  {
   "cell_type": "code",
   "execution_count": 14,
   "id": "df98f59d",
   "metadata": {},
   "outputs": [],
   "source": [
    "class MPGDataGenerator(znrnd.data.DataGenerator):\n",
    "    \"\"\"\n",
    "    Data generator for the MPG dataset.\n",
    "    \"\"\"\n",
    "    def __init__(self, dataset: pd.DataFrame):\n",
    "        \"\"\"\n",
    "        Constructor for the data generator.\n",
    "        \n",
    "        Parameters\n",
    "        ----------\n",
    "        dataset\n",
    "        \"\"\"        \n",
    "        train_ds = dataset.sample(frac=0.8, random_state=0)\n",
    "        train_labels = train_ds.pop(\"MPG\")\n",
    "        test_ds = dataset.drop(train_ds.index)\n",
    "        test_labels = test_ds.pop(\"MPG\")\n",
    "        \n",
    "        self.train_ds = {\"inputs\": train_ds.to_numpy(), \"targets\": train_labels.to_numpy().reshape(-1, 1)}\n",
    "        self.test_ds = {\"inputs\": test_ds.to_numpy(), \"targets\": test_labels.to_numpy().reshape(-1, 1)}\n",
    "        \n",
    "        self.data_pool = self.train_ds[\"inputs\"]\n",
    "        "
   ]
  },
  {
   "cell_type": "code",
   "execution_count": 15,
   "id": "f9e8e849",
   "metadata": {},
   "outputs": [],
   "source": [
    "data_generator = MPGDataGenerator(dataset)"
   ]
  },
  {
   "cell_type": "markdown",
   "id": "f607ab75",
   "metadata": {},
   "source": [
    "### Create a model"
   ]
  },
  {
   "cell_type": "code",
   "execution_count": 16,
   "id": "92f3e810",
   "metadata": {},
   "outputs": [],
   "source": [
    "model = stax.serial(\n",
    "    stax.Dense(32),\n",
    "    stax.Relu(),\n",
    "    stax.Dense(32),\n",
    "    stax.Relu(),\n",
    "    stax.Dense(32),\n",
    "    stax.Relu(),\n",
    "    stax.Dense(1),\n",
    ")"
   ]
  },
  {
   "cell_type": "code",
   "execution_count": 17,
   "id": "282ad734",
   "metadata": {},
   "outputs": [],
   "source": [
    "ntk_network = znrnd.models.NTModel(\n",
    "            nt_module=model,\n",
    "            optimizer=optax.adam(learning_rate=0.001),\n",
    "            input_shape=(9,),\n",
    "        )"
   ]
  },
  {
   "cell_type": "markdown",
   "id": "b9860303-d6cf-47d5-8223-a4e0a2b20d8a",
   "metadata": {},
   "source": [
    "### Create a training strategy"
   ]
  },
  {
   "cell_type": "code",
   "execution_count": 19,
   "id": "c6bf04e6-4c52-4bb4-a934-ffc28172e6bf",
   "metadata": {},
   "outputs": [],
   "source": [
    "training_strategy = znrnd.training_strategies.SimpleTraining(\n",
    "    model=ntk_network, \n",
    "    loss_fn=znrnd.loss_functions.LPNormLoss(order=2),\n",
    "    accuracy_fn=znrnd.accuracy_functions.LabelAccuracy(),\n",
    ")"
   ]
  },
  {
   "cell_type": "markdown",
   "id": "727a0fe7-99d5-4379-9a6d-867d3ba7efb7",
   "metadata": {},
   "source": [
    "### Train the model"
   ]
  },
  {
   "cell_type": "code",
   "execution_count": 20,
   "id": "23255bdf",
   "metadata": {},
   "outputs": [
    {
     "name": "stderr",
     "output_type": "stream",
     "text": [
      "Epoch: 100: 100%|██████████████████████████████████| 100/100 [00:12<00:00,  8.32batch/s, accuracy=1]\n"
     ]
    }
   ],
   "source": [
    "metrics = training_strategy.train_model(\n",
    "    train_ds=data_generator.train_ds, test_ds=data_generator.test_ds, epochs=100, batch_size=32\n",
    ")"
   ]
  },
  {
   "cell_type": "markdown",
   "id": "663ac5ca",
   "metadata": {},
   "source": [
    "### Perform some data selection"
   ]
  },
  {
   "cell_type": "code",
   "execution_count": 21,
   "id": "8565f655",
   "metadata": {},
   "outputs": [],
   "source": [
    "rnd_stack = stax.serial(\n",
    "    stax.Dense(32),\n",
    "    stax.Relu(),\n",
    "    stax.Dense(32),\n",
    "    stax.Relu(),\n",
    "    stax.Dense(32),\n",
    ")"
   ]
  },
  {
   "cell_type": "code",
   "execution_count": 23,
   "id": "c3724135",
   "metadata": {},
   "outputs": [],
   "source": [
    "target = znrnd.models.NTModel(\n",
    "        nt_module=rnd_stack,\n",
    "        optimizer=optax.adam(learning_rate=0.001),\n",
    "        input_shape=(9,),\n",
    "    )\n",
    "\n",
    "predictor = znrnd.models.NTModel(\n",
    "        nt_module=rnd_stack,\n",
    "        optimizer=optax.adam(learning_rate=0.001),\n",
    "        input_shape=(9,),\n",
    "    )"
   ]
  },
  {
   "cell_type": "code",
   "execution_count": 24,
   "id": "f0283f65-c3d3-4cdf-908d-c724e7eefc9c",
   "metadata": {},
   "outputs": [],
   "source": [
    "training_strategy = znrnd.training_strategies.SimpleTraining(\n",
    "    model=predictor, \n",
    "    loss_fn=znrnd.loss_functions.LPNormLoss(order=2),\n",
    ")"
   ]
  },
  {
   "cell_type": "code",
   "execution_count": 25,
   "id": "4c33fbf6",
   "metadata": {},
   "outputs": [],
   "source": [
    "agent = znrnd.agents.RND(\n",
    "    training_strategy=training_strategy, \n",
    "    point_selector=znrnd.point_selection.GreedySelection(threshold=0.01),\n",
    "    distance_metric=znrnd.distance_metrics.OrderNDifference(order=2),\n",
    "    data_generator=data_generator,\n",
    "    target_network=target,\n",
    "    predictor_network=predictor,\n",
    "    tolerance=8,\n",
    "    )"
   ]
  },
  {
   "cell_type": "code",
   "execution_count": 26,
   "id": "7ecab2a3",
   "metadata": {},
   "outputs": [
    {
     "name": "stderr",
     "output_type": "stream",
     "text": [
      "Epoch: 50: 100%|████████████████████████████████| 50/50 [00:00<00:00, 152.51batch/s, test_loss=7.23]\n",
      "Epoch: 50: 100%|█████████████████████████████████| 50/50 [00:00<00:00, 96.53batch/s, test_loss=5.01]\n",
      "Epoch: 50: 100%|█████████████████████████████████| 50/50 [00:00<00:00, 74.37batch/s, test_loss=2.95]\n",
      "Epoch: 50: 100%|████████████████████████████████| 50/50 [00:00<00:00, 59.54batch/s, test_loss=0.921]\n",
      "Epoch: 50: 100%|████████████████████████████████| 50/50 [00:01<00:00, 49.27batch/s, test_loss=0.606]\n",
      "Epoch: 50: 100%|████████████████████████████████| 50/50 [00:02<00:00, 18.87batch/s, test_loss=0.824]\n",
      "Epoch: 50: 100%|█████████████████████████████████| 50/50 [00:04<00:00, 10.63batch/s, test_loss=0.91]\n",
      "Epoch: 50: 100%|█████████████████████████████████| 50/50 [00:05<00:00,  8.75batch/s, test_loss=0.81]\n",
      "Epoch: 50: 100%|████████████████████████████████| 50/50 [00:07<00:00,  7.01batch/s, test_loss=0.758]\n",
      "Epoch: 50: 100%|████████████████████████████████| 50/50 [00:08<00:00,  6.05batch/s, test_loss=0.735]\n"
     ]
    }
   ],
   "source": [
    "ds = agent.build_dataset(10)"
   ]
  },
  {
   "cell_type": "code",
   "execution_count": 13,
   "id": "0fda24c4",
   "metadata": {},
   "outputs": [],
   "source": [
    "train_ds = {\n",
    "    \"inputs\": np.take(data_generator.train_ds[\"inputs\"], agent.target_indices, axis=0),\n",
    "    \"targets\": np.take(data_generator.train_ds[\"targets\"], agent.target_indices, axis=0)\n",
    "}"
   ]
  },
  {
   "cell_type": "code",
   "execution_count": 14,
   "id": "08a4d8e6",
   "metadata": {},
   "outputs": [],
   "source": [
    "ntk_network = znrnd.models.NTModel(\n",
    "            nt_module=model,\n",
    "            optimizer=optax.adam(learning_rate=0.1),\n",
    "            loss_fn=znrnd.loss_functions.LPNormLoss(order=2),\n",
    "            input_shape=(9,),\n",
    "            training_threshold=0.001\n",
    "        )"
   ]
  },
  {
   "cell_type": "code",
   "execution_count": 15,
   "id": "c75503ae",
   "metadata": {},
   "outputs": [
    {
     "name": "stderr",
     "output_type": "stream",
     "text": [
      "Epoch: 50: 100%|████████████████████████████████| 50/50 [00:08<00:00,  5.66batch/s, test_loss=0.391]\n"
     ]
    }
   ],
   "source": [
    "rnd_metrics = ntk_network.train_model(train_ds, test_ds=data_generator.test_ds)"
   ]
  },
  {
   "cell_type": "code",
   "execution_count": null,
   "id": "a1195149",
   "metadata": {},
   "outputs": [],
   "source": []
  }
 ],
 "metadata": {
  "kernelspec": {
   "display_name": "Python [conda env:jax]",
   "language": "python",
   "name": "conda-env-jax-py"
  },
  "language_info": {
   "codemirror_mode": {
    "name": "ipython",
    "version": 3
   },
   "file_extension": ".py",
   "mimetype": "text/x-python",
   "name": "python",
   "nbconvert_exporter": "python",
   "pygments_lexer": "ipython3",
   "version": "3.10.4"
  }
 },
 "nbformat": 4,
 "nbformat_minor": 5
}
