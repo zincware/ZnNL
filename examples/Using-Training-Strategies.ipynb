{
 "cells": [
  {
   "cell_type": "markdown",
   "id": "d1f093de-3d50-4726-957c-451cbc082597",
   "metadata": {},
   "source": [
    "# Using different Training strategies\n",
    "\n",
    "When training a model, training in costum strategies can be curcial, especially when re-training a model on new data.\n",
    "\n",
    "This notebook shows how to use different training strategies for RND. "
   ]
  },
  {
   "cell_type": "code",
   "execution_count": null,
   "id": "801af3a6-edc4-4d29-a407-8c1892c34b1b",
   "metadata": {},
   "outputs": [],
   "source": [
    "import os\n",
    "os.environ[\"CUDA_VISIBLE_DEVICES\"] = \"-1\"\n",
    "\n",
    "import copy\n",
    "import znrnd as znrnd\n",
    "import numpy as np\n",
    "\n",
    "import matplotlib.pyplot as plt\n",
    "\n",
    "from neural_tangents import stax\n",
    "import optax"
   ]
  },
  {
   "cell_type": "code",
   "execution_count": null,
   "id": "8acac273-de2a-4036-8d74-ad85f0732939",
   "metadata": {},
   "outputs": [],
   "source": [
    "data_generator = znrnd.data.MNISTGenerator(50)\n",
    "input_shape = data_generator.train_ds['inputs'][:1, ...].shape"
   ]
  },
  {
   "cell_type": "markdown",
   "id": "e6d7e6d6-56a9-45d2-8c8d-c6056bfe3bb0",
   "metadata": {
    "tags": []
   },
   "source": [
    "## Define the Networks"
   ]
  },
  {
   "cell_type": "code",
   "execution_count": null,
   "id": "aa9e99c6-c70c-458e-9837-487d9ea2fdfa",
   "metadata": {},
   "outputs": [],
   "source": [
    "architecture = stax.serial(\n",
    "    stax.Flatten(),\n",
    "    stax.Dense(128),\n",
    "    stax.Relu(),\n",
    "    stax.Dense(128)\n",
    ")"
   ]
  },
  {
   "cell_type": "code",
   "execution_count": null,
   "id": "2e6c62e9-9856-4fa9-95f3-7c04a875b2a8",
   "metadata": {},
   "outputs": [],
   "source": [
    "target_model = znrnd.models.NTModel(\n",
    "    nt_module=architecture,\n",
    "    optimizer=optax.adam(learning_rate=0.02),\n",
    "    input_shape=input_shape,\n",
    "    batch_size=10,\n",
    ")\n",
    "\n",
    "predictor_model = znrnd.models.NTModel(\n",
    "    nt_module=architecture,\n",
    "    optimizer=optax.adam(learning_rate=0.02),\n",
    "    input_shape=input_shape,\n",
    "    batch_size=10,\n",
    ")"
   ]
  },
  {
   "cell_type": "code",
   "execution_count": null,
   "id": "d3366ca0-1dd7-48fa-a373-521fe992a203",
   "metadata": {},
   "outputs": [],
   "source": [
    "# Create a data set for recording RND\n",
    "dataset = {\"inputs\": data_generator.train_ds[\"inputs\"], \n",
    "           \"targets\": target_model(data_generator.train_ds[\"inputs\"])}"
   ]
  },
  {
   "cell_type": "markdown",
   "id": "a8ea2904-f053-4942-9cf6-a3b62a5dbb5b",
   "metadata": {
    "tags": []
   },
   "source": [
    "## Define the training strategies and according recorders\n",
    "\n",
    "Here, 3 different training strategies are presented. \n",
    "For each the train loss is recorded to show the difference between the strategies. \n",
    "\n",
    "1. Simple Training \n",
    "2. Partitioned Training\n",
    "3. Loss aware reservoir Training"
   ]
  },
  {
   "cell_type": "markdown",
   "id": "58c72e73-ca57-49a5-9e70-4dce8dbdef00",
   "metadata": {},
   "source": [
    "### Simple Training"
   ]
  },
  {
   "cell_type": "code",
   "execution_count": null,
   "id": "39ce50d0-0d13-40a9-b45e-915fd521bb50",
   "metadata": {},
   "outputs": [],
   "source": [
    "simple_recorder = znrnd.training_recording.JaxRecorder(\n",
    "    name=\"simple_recorder\",\n",
    "    loss=True, \n",
    "    update_rate=1, \n",
    "    chunk_size=1e10 # Big Chunk-size to prevent saving the recordings.\n",
    ")\n",
    "simple_recorder.instantiate_recorder(\n",
    "    data_set=dataset\n",
    ")\n",
    "simple_trainer = znrnd.training_strategies.SimpleTraining(\n",
    "    model=None,\n",
    "    loss_fn=znrnd.loss_functions.MeanPowerLoss(order=2),\n",
    "    recorders=[simple_recorder]\n",
    ")\n",
    "\n",
    "print(\"SimpleTraining: \\n\", simple_trainer.__doc__)"
   ]
  },
  {
   "cell_type": "markdown",
   "id": "dbe7bf75-0380-496a-909a-694da1db2f31",
   "metadata": {},
   "source": [
    "### Partitioned Training\n",
    "\n",
    "We will use that method to only train the point latest chosen data point in RND. "
   ]
  },
  {
   "cell_type": "code",
   "execution_count": null,
   "id": "962d7403-63c4-462b-b6dd-c6b15cf6aa06",
   "metadata": {},
   "outputs": [],
   "source": [
    "partitioned_recorder = znrnd.training_recording.JaxRecorder(\n",
    "    name=\"simple_recorder\",\n",
    "    loss=True, \n",
    "    update_rate=1, \n",
    "    chunk_size=1e10 # Big Chunk-size to prevent saving the recordings.\n",
    ")\n",
    "partitioned_recorder.instantiate_recorder(\n",
    "    data_set=dataset\n",
    ")\n",
    "partitioned_trainer = znrnd.training_strategies.PartitionedTraining(\n",
    "    model=None,\n",
    "    loss_fn=znrnd.loss_functions.MeanPowerLoss(order=2),\n",
    "    recorders=[partitioned_recorder]\n",
    ")\n",
    "\n",
    "print(\"PartitionedTraining: \\n\", simple_trainer.__doc__)"
   ]
  },
  {
   "cell_type": "markdown",
   "id": "3c61a48e-ffad-4238-8fdf-5537b154fc6e",
   "metadata": {},
   "source": [
    "### Loss aware reservoir Training"
   ]
  },
  {
   "cell_type": "code",
   "execution_count": null,
   "id": "34ef26d5-f1cb-4533-a1af-188570c7d796",
   "metadata": {},
   "outputs": [],
   "source": [
    "LaR_recorder = znrnd.training_recording.JaxRecorder(\n",
    "    name=\"simple_recorder\",\n",
    "    loss=True, \n",
    "    update_rate=1, \n",
    "    chunk_size=1e10 # Big Chunk-size to prevent saving the recordings.\n",
    ")\n",
    "LaR_recorder.instantiate_recorder(\n",
    "    data_set=dataset\n",
    ")\n",
    "LaR_trainer = znrnd.training_strategies.LossAwareReservoir(\n",
    "    model=None,\n",
    "    loss_fn=znrnd.loss_functions.MeanPowerLoss(order=2),\n",
    "    reservoir_size=2,\n",
    "    recorders=[LaR_recorder]\n",
    ")\n",
    "\n",
    "print(\"LossAwareReservoir: \\n\", simple_trainer.__doc__)"
   ]
  },
  {
   "cell_type": "code",
   "execution_count": null,
   "id": "d92fc02e-6846-4e30-adc8-564be6bd2fe7",
   "metadata": {
    "tags": []
   },
   "outputs": [],
   "source": [
    "agent_dict = {\n",
    "    \"data_generator\": data_generator,\n",
    "    \"target_network\": target_model,\n",
    "    \"predictor_network\": predictor_model,\n",
    "    \"distance_metric\": znrnd.distance_metrics.OrderNDifference(order=2),\n",
    "    \"point_selector\": znrnd.point_selection.GreedySelection(), \n",
    "}\n",
    "\n",
    "simple_agent = znrnd.agents.RND(\n",
    "        training_strategy=simple_trainer,\n",
    "        **copy.deepcopy(agent_dict),\n",
    "    )\n",
    "partitioned_agent = znrnd.agents.RND(\n",
    "        training_strategy=partitioned_trainer,\n",
    "        **copy.deepcopy(agent_dict),\n",
    "    )\n",
    "LaR_agent = znrnd.agents.RND(\n",
    "        training_strategy=LaR_trainer,\n",
    "        **copy.deepcopy(agent_dict),\n",
    "    )"
   ]
  },
  {
   "cell_type": "markdown",
   "id": "458c3cb2-9371-41de-9596-e0026fae28a0",
   "metadata": {},
   "source": [
    "## Execution"
   ]
  },
  {
   "cell_type": "code",
   "execution_count": null,
   "id": "ebeb443e-2123-4148-b449-00d04c1f2aae",
   "metadata": {
    "tags": []
   },
   "outputs": [],
   "source": [
    "target_size = 5\n",
    "batch_size = 10\n",
    "epochs = 20\n",
    "\n",
    "_ = simple_agent.build_dataset(\n",
    "    target_size=target_size, \n",
    "    epochs=epochs, \n",
    "    batch_size=batch_size,\n",
    "    seed_randomly=False\n",
    ")\n",
    "_ = partitioned_agent.build_dataset(\n",
    "    target_size=target_size, \n",
    "    epochs=[epochs], \n",
    "    batch_size=[batch_size],\n",
    "    train_ds_selection=[[-1]],\n",
    "    seed_randomly=False, \n",
    ")\n",
    "_ = LaR_agent.build_dataset(\n",
    "    target_size=target_size, \n",
    "    epochs=epochs, \n",
    "    batch_size=batch_size,\n",
    "    seed_randomly=False\n",
    ")"
   ]
  },
  {
   "cell_type": "markdown",
   "id": "eb2bb783-7947-4fc2-b48c-b4a845eac46d",
   "metadata": {},
   "source": [
    "## Plot the data"
   ]
  },
  {
   "cell_type": "code",
   "execution_count": null,
   "id": "d6af0173",
   "metadata": {},
   "outputs": [],
   "source": [
    "simple_report = simple_recorder.gather_recording()\n",
    "pertitioned_report = partitioned_recorder.gather_recording()\n",
    "LaR_report = LaR_recorder.gather_recording()"
   ]
  },
  {
   "cell_type": "code",
   "execution_count": null,
   "id": "b2379642",
   "metadata": {},
   "outputs": [],
   "source": [
    "plt.plot(simple_report.loss, '-', mfc='None', label=\"SimpleTraining\")\n",
    "plt.plot(pertitioned_report.loss, '-', mfc='None', label=\"PartitionedTraining\")\n",
    "plt.plot(LaR_report.loss, '-', mfc='None', label=\"LossAwareReservoir\")\n",
    "plt.xlabel(\"Epoch\")\n",
    "plt.ylabel(\"Loss\")\n",
    "plt.legend()\n",
    "plt.show()"
   ]
  }
 ],
 "metadata": {
  "kernelspec": {
   "display_name": "Python 3 (ipykernel)",
   "language": "python",
   "name": "python3"
  },
  "language_info": {
   "codemirror_mode": {
    "name": "ipython",
    "version": 3
   },
   "file_extension": ".py",
   "mimetype": "text/x-python",
   "name": "python",
   "nbconvert_exporter": "python",
   "pygments_lexer": "ipython3",
   "version": "3.9.5"
  }
 },
 "nbformat": 4,
 "nbformat_minor": 5
}
