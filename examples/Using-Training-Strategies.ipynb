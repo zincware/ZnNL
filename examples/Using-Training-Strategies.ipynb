{
 "cells": [
  {
   "cell_type": "code",
   "execution_count": null,
   "id": "801af3a6-edc4-4d29-a407-8c1892c34b1b",
   "metadata": {},
   "outputs": [],
   "source": [
    "import os\n",
    "os.environ[\"CUDA_VISIBLE_DEVICES\"] = \"-1\"\n",
    "\n",
    "import copy\n",
    "import znrnd as znrnd\n",
    "import numpy as np\n",
    "\n",
    "import matplotlib.pyplot as plt\n",
    "\n",
    "from neural_tangents import stax\n",
    "import optax"
   ]
  },
  {
   "cell_type": "markdown",
   "id": "d1f093de-3d50-4726-957c-451cbc082597",
   "metadata": {},
   "source": [
    "# Using different Training strategies\n",
    "\n",
    "When training a model, training in costum strategies can be curcial, especially when re-training a model on new data.\n",
    "\n",
    "This notebook shows how to use different training strategies for RND. "
   ]
  },
  {
   "cell_type": "code",
   "execution_count": null,
   "id": "8acac273-de2a-4036-8d74-ad85f0732939",
   "metadata": {},
   "outputs": [],
   "source": [
    "data_generator = znrnd.data.MNISTGenerator(50)\n",
    "input_shape = data_generator.train_ds['inputs'][:1, ...].shape"
   ]
  },
  {
   "cell_type": "markdown",
   "id": "e6d7e6d6-56a9-45d2-8c8d-c6056bfe3bb0",
   "metadata": {
    "tags": []
   },
   "source": [
    "## Define the Networks"
   ]
  },
  {
   "cell_type": "code",
   "execution_count": null,
   "id": "aa9e99c6-c70c-458e-9837-487d9ea2fdfa",
   "metadata": {},
   "outputs": [],
   "source": [
    "architecture = stax.serial(\n",
    "    stax.Flatten(),\n",
    "    stax.Dense(128),\n",
    "    stax.Relu(),\n",
    "    stax.Dense(128)\n",
    ")"
   ]
  },
  {
   "cell_type": "code",
   "execution_count": null,
   "id": "2e6c62e9-9856-4fa9-95f3-7c04a875b2a8",
   "metadata": {},
   "outputs": [],
   "source": [
    "target_model = znrnd.models.NTModel(\n",
    "    nt_module=architecture,\n",
    "    optimizer=optax.adam(learning_rate=0.02),\n",
    "    input_shape=input_shape,\n",
    "    batch_size=10,\n",
    ")\n",
    "\n",
    "predictor_model = znrnd.models.NTModel(\n",
    "    nt_module=architecture,\n",
    "    optimizer=optax.adam(learning_rate=0.02),\n",
    "    input_shape=input_shape,\n",
    "    batch_size=10,\n",
    ")"
   ]
  },
  {
   "cell_type": "code",
   "execution_count": null,
   "id": "d3366ca0-1dd7-48fa-a373-521fe992a203",
   "metadata": {},
   "outputs": [],
   "source": [
    "# Create a data set for recording RND\n",
    "dataset = {\"inputs\": data_generator.train_ds[\"inputs\"], \n",
    "           \"targets\": target_model(data_generator.train_ds[\"inputs\"])}"
   ]
  },
  {
   "cell_type": "markdown",
   "id": "a8ea2904-f053-4942-9cf6-a3b62a5dbb5b",
   "metadata": {
    "tags": []
   },
   "source": [
    "## Define the training strategies and according recorders\n",
    "\n",
    "Here, 3 different training strategies are presented. \n",
    "For each the train loss is recorded to show the difference between the strategies. \n",
    "\n",
    "1. Simple Training \n",
    "2. Partitioned Training\n",
    "3. Loss aware reservoir Training"
   ]
  },
  {
   "cell_type": "markdown",
   "id": "58c72e73-ca57-49a5-9e70-4dce8dbdef00",
   "metadata": {},
   "source": [
    "### Simple Training"
   ]
  },
  {
   "cell_type": "code",
   "execution_count": null,
   "id": "39ce50d0-0d13-40a9-b45e-915fd521bb50",
   "metadata": {},
   "outputs": [],
   "source": [
    "simple_recorder = znrnd.training_recording.JaxRecorder(\n",
    "    name=\"simple_recorder\",\n",
    "    loss=True, \n",
    "    update_rate=1, \n",
    "    chunk_size=1e10 # Big Chunk-size to prevent saving the recordings.\n",
    ")\n",
    "simple_recorder.instantiate_recorder(\n",
    "    data_set=dataset\n",
    ")\n",
    "simple_trainer = znrnd.training_strategies.SimpleTraining(\n",
    "    model=None,\n",
    "    loss_fn=znrnd.loss_functions.MeanPowerLoss(order=2),\n",
    "    recorders=[simple_recorder]\n",
    ")\n",
    "\n",
    "print(\"SimpleTraining: \\n\", simple_trainer.__doc__)"
   ]
  },
  {
   "cell_type": "markdown",
   "id": "dbe7bf75-0380-496a-909a-694da1db2f31",
   "metadata": {},
   "source": [
    "### Partitioned Training\n",
    "\n",
    "We will use that method to only train the point latest chosen data point in RND. "
   ]
  },
  {
   "cell_type": "code",
   "execution_count": null,
   "id": "962d7403-63c4-462b-b6dd-c6b15cf6aa06",
   "metadata": {},
   "outputs": [],
   "source": [
    "partitioned_recorder = znrnd.training_recording.JaxRecorder(\n",
    "    name=\"simple_recorder\",\n",
    "    loss=True, \n",
    "    update_rate=1, \n",
    "    chunk_size=1e10 # Big Chunk-size to prevent saving the recordings.\n",
    ")\n",
    "partitioned_recorder.instantiate_recorder(\n",
    "    data_set=dataset\n",
    ")\n",
    "partitioned_trainer = znrnd.training_strategies.PartitionedTraining(\n",
    "    model=None,\n",
    "    loss_fn=znrnd.loss_functions.MeanPowerLoss(order=2),\n",
    "    recorders=[partitioned_recorder]\n",
    ")\n",
    "\n",
    "print(\"PartitionedTraining: \\n\", simple_trainer.__doc__)"
   ]
  },
  {
   "cell_type": "markdown",
   "id": "3c61a48e-ffad-4238-8fdf-5537b154fc6e",
   "metadata": {},
   "source": [
    "### Loss aware reservoir Training"
   ]
  },
  {
   "cell_type": "code",
   "execution_count": null,
   "id": "34ef26d5-f1cb-4533-a1af-188570c7d796",
   "metadata": {},
   "outputs": [],
   "source": [
    "LaR_recorder = znrnd.training_recording.JaxRecorder(\n",
    "    name=\"simple_recorder\",\n",
    "    loss=True, \n",
    "    update_rate=1, \n",
    "    chunk_size=1e10 # Big Chunk-size to prevent saving the recordings.\n",
    ")\n",
    "LaR_recorder.instantiate_recorder(\n",
    "    data_set=dataset\n",
    ")\n",
    "LaR_trainer = znrnd.training_strategies.LossAwareReservoir(\n",
    "    model=None,\n",
    "    loss_fn=znrnd.loss_functions.MeanPowerLoss(order=2),\n",
    "    reservoir_size=2,\n",
    "    latest_points=1,\n",
    "    recorders=[LaR_recorder]\n",
    ")\n",
    "\n",
    "print(\"LossAwareReservoir: \\n\", simple_trainer.__doc__)"
   ]
  },
  {
   "cell_type": "code",
   "execution_count": null,
   "id": "d92fc02e-6846-4e30-adc8-564be6bd2fe7",
   "metadata": {
    "tags": []
   },
   "outputs": [],
   "source": [
    "agent_dict = {\n",
    "    \"data_generator\": data_generator,\n",
    "    \"target_network\": target_model,\n",
    "    \"predictor_network\": predictor_model,\n",
    "    \"distance_metric\": znrnd.distance_metrics.OrderNDifference(order=2),\n",
    "    \"point_selector\": znrnd.point_selection.GreedySelection(), \n",
    "}\n",
    "\n",
    "simple_agent = znrnd.agents.RND(\n",
    "        training_strategy=simple_trainer,\n",
    "        **copy.deepcopy(agent_dict),\n",
    "    )\n",
    "partitioned_agent = znrnd.agents.RND(\n",
    "        training_strategy=partitioned_trainer,\n",
    "        **copy.deepcopy(agent_dict),\n",
    "    )\n",
    "LaR_agent = znrnd.agents.RND(\n",
    "        training_strategy=LaR_trainer,\n",
    "        **copy.deepcopy(agent_dict),\n",
    "    )"
   ]
  },
  {
   "cell_type": "markdown",
   "id": "458c3cb2-9371-41de-9596-e0026fae28a0",
   "metadata": {},
   "source": [
    "## Execution"
   ]
  },
  {
   "cell_type": "code",
   "execution_count": null,
   "id": "ebeb443e-2123-4148-b449-00d04c1f2aae",
   "metadata": {
    "tags": []
   },
   "outputs": [],
   "source": [
    "target_size = 5\n",
    "batch_size = 20\n",
    "epochs = 50\n",
    "\n",
    "_ = simple_agent.build_dataset(\n",
    "    target_size=target_size, \n",
    "    epochs=epochs, \n",
    "    batch_size=batch_size,\n",
    "    seed_randomly=False\n",
    ")\n",
    "_ = partitioned_agent.build_dataset(\n",
    "    target_size=target_size, \n",
    "    epochs=[epochs], \n",
    "    batch_size=[batch_size],\n",
    "    train_ds_selection=[np.array([-1])],\n",
    "    seed_randomly=False, \n",
    ")\n",
    "_ = LaR_agent.build_dataset(\n",
    "    target_size=target_size, \n",
    "    epochs=epochs, \n",
    "    batch_size=batch_size,\n",
    "    seed_randomly=False\n",
    ")"
   ]
  },
  {
   "cell_type": "markdown",
   "id": "eb2bb783-7947-4fc2-b48c-b4a845eac46d",
   "metadata": {},
   "source": [
    "## Plot the data"
   ]
  },
  {
   "cell_type": "code",
   "execution_count": null,
   "id": "d6af0173",
   "metadata": {},
   "outputs": [],
   "source": [
    "simple_report = simple_recorder.gather_recording()\n",
    "pertitioned_report = partitioned_recorder.gather_recording()\n",
    "LaR_report = LaR_recorder.gather_recording()"
   ]
  },
  {
   "cell_type": "code",
   "execution_count": null,
   "id": "b2379642",
   "metadata": {},
   "outputs": [],
   "source": [
    "plt.plot(simple_report.loss, '-', mfc='None', label=\"SimpleTraining\")\n",
    "plt.plot(pertitioned_report.loss, '-', mfc='None', label=\"PartitionedTraining\")\n",
    "plt.plot(LaR_report.loss, '-', mfc='None', label=\"LossAwareReservoir\")\n",
    "plt.xlabel(\"Epoch\")\n",
    "plt.ylabel(\"Loss\")\n",
    "plt.legend()\n",
    "plt.show()"
   ]
  },
  {
   "cell_type": "markdown",
   "id": "7f9a014c-a49f-487d-8cc9-55adee6aca61",
   "metadata": {},
   "source": [
    "# Show Loss equalizing\n",
    "The loss aware reservior and the partitioned training are designed to equalize initial loss inequalities in data. \n",
    "Here, we pre-train on a part of the data and check the loss for new, non-trained data. \n",
    "We then watch the loss decrease when training on all data using different training strategies. "
   ]
  },
  {
   "cell_type": "code",
   "execution_count": null,
   "id": "b3567f94-4c0e-4a69-bd5b-4ee125f967ef",
   "metadata": {},
   "outputs": [],
   "source": [
    "data_generator = znrnd.data.MNISTGenerator(50)\n",
    "pre_train_ds = {k: v[:40, ...] for k, v in data_generator.train_ds.items()}"
   ]
  },
  {
   "cell_type": "markdown",
   "id": "30a861e8-6dfe-4ed3-a78d-32373e9ff38d",
   "metadata": {},
   "source": [
    "### Model"
   ]
  },
  {
   "cell_type": "code",
   "execution_count": null,
   "id": "7f0b8c4f-ac14-4765-a8b4-31c7b603f464",
   "metadata": {},
   "outputs": [],
   "source": [
    "architecture = stax.serial(\n",
    "    stax.Flatten(),\n",
    "    stax.Dense(128),\n",
    "    stax.Relu(),\n",
    "    stax.Dense(128), \n",
    "    stax.Relu(), \n",
    "    stax.Dense(10)\n",
    ")"
   ]
  },
  {
   "cell_type": "code",
   "execution_count": null,
   "id": "e63af8d0-04b7-4e2f-a4bb-7b0732f17be7",
   "metadata": {},
   "outputs": [],
   "source": [
    "model = znrnd.models.NTModel(\n",
    "    nt_module=architecture,\n",
    "    optimizer=optax.adam(learning_rate=0.02),\n",
    "    input_shape=input_shape,\n",
    "    batch_size=10,\n",
    ")"
   ]
  },
  {
   "cell_type": "markdown",
   "id": "24404dbc-1a33-46cd-b0f9-c036befb5168",
   "metadata": {},
   "source": [
    "### Pre-Training"
   ]
  },
  {
   "cell_type": "code",
   "execution_count": null,
   "id": "e01ae16e-6752-450a-b20f-5998aeb48da1",
   "metadata": {},
   "outputs": [],
   "source": [
    "pre_train_recorder = znrnd.training_recording.JaxRecorder(\n",
    "    name=\"simple_recorder\",\n",
    "    loss=True, \n",
    "    update_rate=1, \n",
    "    chunk_size=1e10 # Big Chunk-size to prevent saving the recordings.\n",
    ")\n",
    "pre_train_recorder.instantiate_recorder(\n",
    "    data_set=pre_train_ds\n",
    ")\n",
    "pre_trainer = znrnd.training_strategies.SimpleTraining(\n",
    "    model=model,\n",
    "    loss_fn=znrnd.loss_functions.MeanPowerLoss(order=2),\n",
    "    recorders=[pre_train_recorder]\n",
    ")"
   ]
  },
  {
   "cell_type": "code",
   "execution_count": null,
   "id": "8b9889f9-c217-4028-b690-39a3dcffc4e1",
   "metadata": {},
   "outputs": [],
   "source": [
    "_ = pre_trainer.train_model(train_ds=pre_train_ds, test_ds=pre_train_ds, epochs=50, batch_size=10)"
   ]
  },
  {
   "cell_type": "markdown",
   "id": "d7c25110-da2b-462f-99b6-a7b2aea68d5f",
   "metadata": {},
   "source": [
    "### Check if the training has converged "
   ]
  },
  {
   "cell_type": "code",
   "execution_count": null,
   "id": "19921956-8768-4a14-b664-a6d3c8c0444c",
   "metadata": {},
   "outputs": [],
   "source": [
    "pre_train_report = pre_train_recorder.gather_recording()"
   ]
  },
  {
   "cell_type": "code",
   "execution_count": null,
   "id": "d7ccf416-0d05-494e-9c80-eff20b6c5d9c",
   "metadata": {},
   "outputs": [],
   "source": [
    "plt.plot(pre_train_report.loss, '-', mfc='None', label=\"Pre-training\")\n",
    "plt.xlabel(\"Epoch\")\n",
    "plt.ylabel(\"Loss\")\n",
    "plt.yscale(\"log\")\n",
    "plt.legend()\n",
    "plt.show()"
   ]
  },
  {
   "cell_type": "markdown",
   "id": "21bce259-c6f9-4e7f-b26e-dc453b28794c",
   "metadata": {},
   "source": [
    "### Check the loss for all data, including unseen data"
   ]
  },
  {
   "cell_type": "code",
   "execution_count": null,
   "id": "4e651f8d-e12a-4e34-9fd9-89f1084fa085",
   "metadata": {},
   "outputs": [],
   "source": [
    "loss_metric = znrnd.loss_functions.MeanPowerLoss(order=2).metric\n",
    "\n",
    "diff = loss_metric(\n",
    "    pre_trainer.model(data_generator.train_ds[\"inputs\"]), \n",
    "    data_generator.train_ds[\"targets\"]\n",
    ")\n",
    "\n",
    "plt.plot(diff, 'o')\n",
    "plt.xlabel(\"Data index\")\n",
    "plt.ylabel(\"Loss\")\n",
    "plt.show()"
   ]
  },
  {
   "cell_type": "markdown",
   "id": "64698c12-5b3c-49f3-9072-56d9a2e930be",
   "metadata": {},
   "source": [
    "One can clearly see which part of the data was trained and which was not. "
   ]
  },
  {
   "cell_type": "markdown",
   "id": "bd4fe51c-ed07-486e-a9da-8aed34779308",
   "metadata": {},
   "source": [
    "## Prepair the training of different strategies"
   ]
  },
  {
   "cell_type": "markdown",
   "id": "f1e3d14d-fb23-4c8f-ae0c-4a812c6d6716",
   "metadata": {},
   "source": [
    "### Simple Training"
   ]
  },
  {
   "cell_type": "code",
   "execution_count": null,
   "id": "673000d9-d3c3-4a0c-a29c-643799338048",
   "metadata": {},
   "outputs": [],
   "source": [
    "simple_recorder = znrnd.training_recording.JaxRecorder(\n",
    "    name=\"simple_recorder\",\n",
    "    loss=True, \n",
    "    update_rate=1, \n",
    "    chunk_size=1e10 # Big Chunk-size to prevent saving the recordings.\n",
    ")\n",
    "simple_recorder.instantiate_recorder(\n",
    "    data_set=data_generator.train_ds\n",
    ")\n",
    "simple_trainer = znrnd.training_strategies.SimpleTraining(\n",
    "    model=copy.deepcopy(model),\n",
    "    loss_fn=znrnd.loss_functions.MeanPowerLoss(order=2),\n",
    "    recorders=[simple_recorder]\n",
    ")"
   ]
  },
  {
   "cell_type": "markdown",
   "id": "4a8e3568-1a54-4579-9f00-bfaf7bcb9666",
   "metadata": {},
   "source": [
    "### Partitioned Training\n",
    "\n",
    "We will use that method to only train the point latest chosen data point in RND. "
   ]
  },
  {
   "cell_type": "code",
   "execution_count": null,
   "id": "09d2e311-4b57-4750-aa56-b15e5cf03db3",
   "metadata": {},
   "outputs": [],
   "source": [
    "partitioned_recorder = znrnd.training_recording.JaxRecorder(\n",
    "    name=\"simple_recorder\",\n",
    "    loss=True, \n",
    "    update_rate=1, \n",
    "    chunk_size=1e10 # Big Chunk-size to prevent saving the recordings.\n",
    ")\n",
    "partitioned_recorder.instantiate_recorder(\n",
    "    data_set=data_generator.train_ds\n",
    ")\n",
    "partitioned_trainer = znrnd.training_strategies.PartitionedTraining(\n",
    "    model=copy.deepcopy(model),\n",
    "    loss_fn=znrnd.loss_functions.MeanPowerLoss(order=2),\n",
    "    recorders=[partitioned_recorder]\n",
    ")"
   ]
  },
  {
   "cell_type": "markdown",
   "id": "d75ab131-1e6f-4427-b2d1-79491ee0b1e0",
   "metadata": {},
   "source": [
    "### Loss aware reservoir Training"
   ]
  },
  {
   "cell_type": "code",
   "execution_count": null,
   "id": "3e5db721-1108-443c-8406-b49d458c8f86",
   "metadata": {},
   "outputs": [],
   "source": [
    "LaR_recorder = znrnd.training_recording.JaxRecorder(\n",
    "    name=\"simple_recorder\",\n",
    "    loss=True, \n",
    "    update_rate=1, \n",
    "    chunk_size=1e10 # Big Chunk-size to prevent saving the recordings.\n",
    ")\n",
    "LaR_recorder.instantiate_recorder(\n",
    "    data_set=data_generator.train_ds\n",
    ")\n",
    "LaR_trainer = znrnd.training_strategies.LossAwareReservoir(\n",
    "    model=copy.deepcopy(model),\n",
    "    loss_fn=znrnd.loss_functions.MeanPowerLoss(order=2),\n",
    "    reservoir_size=10,\n",
    "    latest_points=5,\n",
    "    recorders=[LaR_recorder]\n",
    ")"
   ]
  },
  {
   "cell_type": "markdown",
   "id": "3a631dc5-56ba-450b-ba7e-1258341b6c81",
   "metadata": {},
   "source": [
    "### Execution"
   ]
  },
  {
   "cell_type": "code",
   "execution_count": null,
   "id": "63fa039e-d70f-4db3-b00b-91f867d5b795",
   "metadata": {
    "tags": []
   },
   "outputs": [],
   "source": [
    "_ = simple_trainer.train_model(\n",
    "    train_ds=data_generator.train_ds, \n",
    "    test_ds=data_generator.train_ds, \n",
    "    epochs=100, \n",
    "    batch_size=10, \n",
    ")\n",
    "_ = partitioned_trainer.train_model(\n",
    "    train_ds=data_generator.train_ds, \n",
    "    test_ds=data_generator.train_ds, \n",
    "    epochs=[50, 50],\n",
    "    batch_size=[5, 10],\n",
    "    train_ds_selection=[slice(40, 50, None), slice(None, None, None)]\n",
    ")\n",
    "_ = LaR_trainer.train_model(\n",
    "    train_ds=data_generator.train_ds, \n",
    "    test_ds=data_generator.train_ds, \n",
    "    epochs=100, \n",
    "    batch_size=10, \n",
    ")"
   ]
  },
  {
   "cell_type": "markdown",
   "id": "139650c0-126c-4e5b-8cb7-37eee42dfbe1",
   "metadata": {},
   "source": [
    "## Plot the data"
   ]
  },
  {
   "cell_type": "code",
   "execution_count": null,
   "id": "0518118d-32a4-4525-8940-9eb2acd96728",
   "metadata": {},
   "outputs": [],
   "source": [
    "simple_report = simple_recorder.gather_recording()\n",
    "pertitioned_report = partitioned_recorder.gather_recording()\n",
    "LaR_report = LaR_recorder.gather_recording()"
   ]
  },
  {
   "cell_type": "code",
   "execution_count": null,
   "id": "2b33ed39-8cbf-452a-94a1-bc74b60feddd",
   "metadata": {},
   "outputs": [],
   "source": [
    "plt.plot(simple_report.loss, '-', mfc='None', label=\"SimpleTraining\")\n",
    "plt.plot(pertitioned_report.loss, '-', mfc='None', label=\"PartitionedTraining\")\n",
    "plt.plot(LaR_report.loss, '-', mfc='None', label=\"LossAwareReservoir\")\n",
    "plt.yscale(\"log\")\n",
    "plt.xlabel(\"Epoch\")\n",
    "plt.ylabel(\"Loss\")\n",
    "plt.legend()\n",
    "plt.show()"
   ]
  }
 ],
 "metadata": {
  "kernelspec": {
   "display_name": "Python 3 (ipykernel)",
   "language": "python",
   "name": "python3"
  },
  "language_info": {
   "codemirror_mode": {
    "name": "ipython",
    "version": 3
   },
   "file_extension": ".py",
   "mimetype": "text/x-python",
   "name": "python",
   "nbconvert_exporter": "python",
   "pygments_lexer": "ipython3",
   "version": "3.9.5"
  }
 },
 "nbformat": 4,
 "nbformat_minor": 5
}
