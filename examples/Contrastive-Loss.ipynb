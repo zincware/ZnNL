{
 "cells": [
  {
   "cell_type": "markdown",
   "id": "6366b322-6dc0-4e0a-986d-998de0d21834",
   "metadata": {
    "tags": []
   },
   "source": [
    "# Example notebook using Contrastive Learning for image classification"
   ]
  },
  {
   "cell_type": "markdown",
   "id": "e79bce8d",
   "metadata": {},
   "source": [
    "## Imports"
   ]
  },
  {
   "cell_type": "code",
   "execution_count": null,
   "id": "a907821f-70db-4b72-94c1-84aaa9531202",
   "metadata": {},
   "outputs": [],
   "source": [
    "import znnl as znnl\n",
    "import jax.numpy as np\n",
    "import numpy as onp\n",
    "from flax import linen as nn\n",
    "import optax\n",
    "from neural_tangents import stax\n",
    "import matplotlib.pyplot as plt\n",
    "import pandas as pd\n",
    "\n",
    "from papyrus.measurements import (\n",
    "    Loss, Accuracy, NTKTrace, NTKEntropy, NTK, NTKSelfEntropy, NTKEigenvalues\n",
    ")"
   ]
  },
  {
   "cell_type": "markdown",
   "id": "fc575e07-cc30-41bc-8c15-7b7a5781ff91",
   "metadata": {
    "jp-MarkdownHeadingCollapsed": true,
    "tags": []
   },
   "source": [
    "## Data"
   ]
  },
  {
   "cell_type": "code",
   "execution_count": null,
   "id": "2c81b781-580c-445e-ac95-4ff7ce383a9d",
   "metadata": {},
   "outputs": [],
   "source": [
    "data_generator = znnl.data.MNISTGenerator(100)\n",
    "input_shape = data_generator.train_ds['inputs'][:1, ...].shape"
   ]
  },
  {
   "cell_type": "markdown",
   "id": "e929b9f8",
   "metadata": {},
   "source": [
    "## Isolated Potential Loss"
   ]
  },
  {
   "cell_type": "markdown",
   "id": "1dd189a4",
   "metadata": {},
   "source": [
    "### Create Model"
   ]
  },
  {
   "cell_type": "code",
   "execution_count": null,
   "id": "bfd3bbdb",
   "metadata": {},
   "outputs": [],
   "source": [
    "class Architecture(nn.Module):\n",
    "    \"\"\"\n",
    "    Simple Flax model.\n",
    "    \"\"\"\n",
    "    @nn.compact\n",
    "    def __call__(self, x):\n",
    "        x = x.reshape((x.shape[0], -1))  # flatten\n",
    "        x = nn.Dense(features=64)(x)\n",
    "        x = nn.relu(x)\n",
    "        x = nn.Dense(features=64)(x)\n",
    "        x = nn.relu(x)\n",
    "        x = nn.Dense(2)(x)\n",
    "\n",
    "        return x\n",
    "    \n",
    "model = znnl.models.FlaxModel(\n",
    "    flax_module=Architecture(),\n",
    "    optimizer=optax.adam(learning_rate=0.005),\n",
    "    input_shape=input_shape,\n",
    "    seed=0,\n",
    ")"
   ]
  },
  {
   "cell_type": "markdown",
   "id": "dc8c1a9b-24da-4a9c-9c31-456e36ba6893",
   "metadata": {
    "jp-MarkdownHeadingCollapsed": true,
    "tags": []
   },
   "source": [
    "### Set up Recorders\n",
    "\n",
    "Here, four recorders are initialized. \\\n",
    "One for each potential and one to track the NTK and according observables. "
   ]
  },
  {
   "cell_type": "code",
   "execution_count": null,
   "id": "44229b8d",
   "metadata": {},
   "outputs": [],
   "source": [
    "loss_fn = znnl.loss_functions.ContrastiveIsolatedPotentialLoss(\n",
    "        attractive_pot_fn=znnl.loss_functions.MeanPowerLoss(order=2), \n",
    "        repulsive_pot_fn=znnl.loss_functions.ExponentialRepulsionLoss(), \n",
    "        external_pot_fn=znnl.loss_functions.ExternalPotential(), \n",
    "        turn_off_attractive_potential=False,\n",
    "        turn_off_repulsive_potential=False,\n",
    "        turn_off_external_potential=False,\n",
    "    )\n",
    "\n",
    "def attractive_loss(point1, point2): return loss_fn.compute_losses(point1, point2)[0]\n",
    "def repulsive_loss(point1, point2): return loss_fn.compute_losses(point1, point2)[1]\n",
    "def external_loss(point1, point2): return loss_fn.compute_losses(point1, point2)[2]"
   ]
  },
  {
   "cell_type": "code",
   "execution_count": null,
   "id": "f1716701-5b9d-473c-acc4-cb9ed28dcc27",
   "metadata": {
    "tags": []
   },
   "outputs": [],
   "source": [
    "attractive_recorder = znnl.training_recording.JaxRecorder(\n",
    "    name=\"attractive_recorder\",\n",
    "    storage_path='.',\n",
    "    # loss=True, \n",
    "    measurements=[Loss(apply_fn=attractive_loss)],\n",
    "    update_rate=1, \n",
    ")\n",
    "attractive_recorder.instantiate_recorder(\n",
    "    data_set=data_generator.train_ds, \n",
    "    model=model\n",
    ")\n",
    "\n",
    "repulsive_recorder = znnl.training_recording.JaxRecorder(\n",
    "    name=\"repulsive_recorder\",\n",
    "    storage_path='.',\n",
    "    measurements=[Loss(apply_fn=repulsive_loss)],\n",
    "    update_rate=1, \n",
    ")\n",
    "repulsive_recorder.instantiate_recorder(\n",
    "    data_set=data_generator.train_ds, \n",
    "    model=model\n",
    ")\n",
    "\n",
    "external_recorder = znnl.training_recording.JaxRecorder(\n",
    "    name=\"external_recorder\",\n",
    "    storage_path='.',\n",
    "    measurements=[Loss(apply_fn=external_loss)],\n",
    "    update_rate=1, \n",
    ")\n",
    "external_recorder.instantiate_recorder(\n",
    "    data_set=data_generator.train_ds, \n",
    "    model=model\n",
    ")\n",
    "\n",
    "ntk_recorder = znnl.training_recording.JaxRecorder(\n",
    "    name=\"nrk_recorder\",\n",
    "    storage_path='.',\n",
    "    measurements=[NTKTrace(), NTKEntropy()],\n",
    "    update_rate=1, \n",
    "    chunk_size=1e10 # Big Chunk-size to prevent saving the recordings.\n",
    ")\n",
    "ntk_computation = znnl.analysis.JAXNTKComputation(\n",
    "    apply_fn=model.ntk_apply_fn, \n",
    "    batch_size=10,\n",
    ")\n",
    "ntk_recorder.instantiate_recorder(\n",
    "    data_set=data_generator.train_ds, \n",
    "    ntk_computation=ntk_computation, \n",
    "    model=model\n",
    ")\n",
    "\n",
    "recorders = [\n",
    "    attractive_recorder, \n",
    "    repulsive_recorder, \n",
    "    external_recorder, \n",
    "    # ntk_recorder\n",
    "]"
   ]
  },
  {
   "cell_type": "markdown",
   "id": "5a91b507-8875-4521-bae8-d810a61fe2aa",
   "metadata": {
    "jp-MarkdownHeadingCollapsed": true,
    "tags": []
   },
   "source": [
    "### Initialize the Trainer"
   ]
  },
  {
   "cell_type": "code",
   "execution_count": null,
   "id": "ce203015-087d-4e46-80a9-41c76e5c1a12",
   "metadata": {},
   "outputs": [],
   "source": [
    "trainer = znnl.training_strategies.SimpleTraining(\n",
    "    model=model,\n",
    "    loss_fn=loss_fn,\n",
    "    recorders=recorders, \n",
    "    seed=0,\n",
    ")"
   ]
  },
  {
   "cell_type": "code",
   "execution_count": null,
   "id": "ea7f7cb9",
   "metadata": {},
   "outputs": [],
   "source": [
    "trainer.loss_fn.turn_off_attractive_potential, trainer.loss_fn.turn_off_repulsive_potential, trainer.loss_fn.turn_off_external_potential"
   ]
  },
  {
   "cell_type": "markdown",
   "id": "cc4b38ed-4ffe-4bb2-94eb-ec0f2e3b4155",
   "metadata": {
    "jp-MarkdownHeadingCollapsed": true,
    "tags": []
   },
   "source": [
    "### Execute Training"
   ]
  },
  {
   "cell_type": "code",
   "execution_count": null,
   "id": "46a55eb0-74c3-4b82-81e9-695cd8c13523",
   "metadata": {
    "tags": []
   },
   "outputs": [],
   "source": [
    "batched_loss = trainer.train_model(\n",
    "    train_ds=data_generator.train_ds, \n",
    "    test_ds=data_generator.test_ds, \n",
    "    epochs=100, \n",
    "    batch_size=100, \n",
    ")"
   ]
  },
  {
   "cell_type": "markdown",
   "id": "8064a6cf-a244-4ccb-bd93-ff40187f84fe",
   "metadata": {
    "tags": []
   },
   "source": [
    "### Evaluate Training"
   ]
  },
  {
   "cell_type": "code",
   "execution_count": null,
   "id": "d824f4fc-b4a4-4d22-88ee-0a640af02c68",
   "metadata": {},
   "outputs": [],
   "source": [
    "attractive_results = attractive_recorder.gather()\n",
    "repulsive_results = repulsive_recorder.gather()\n",
    "external_results = external_recorder.gather()\n",
    "\n",
    "ntk_results = ntk_recorder.gather()"
   ]
  },
  {
   "cell_type": "markdown",
   "id": "4cfd4a06-143d-4f14-a182-8f88128aaebe",
   "metadata": {},
   "source": [
    "### Plot the losses over epochs"
   ]
  },
  {
   "cell_type": "code",
   "execution_count": null,
   "id": "9c466a90-d3c4-443f-be58-d41a30b6900a",
   "metadata": {},
   "outputs": [],
   "source": [
    "plt.figure(figsize=(8, 5))\n",
    "\n",
    "plt.plot(attractive_results['loss'], label=\"attractive\")\n",
    "plt.plot(repulsive_results['loss'], label=\"repulsive\")\n",
    "plt.plot(external_results['loss'], label=\"external\")\n",
    "\n",
    "plt.legend()\n",
    "plt.yscale('log')\n",
    "plt.xlabel('Epoch')\n",
    "plt.ylabel('Loss')\n",
    "plt.title('Loss contributions during training')\n",
    "plt.show()"
   ]
  },
  {
   "cell_type": "markdown",
   "id": "ff566f50-d842-4d25-9d07-03c57f197400",
   "metadata": {},
   "source": [
    "### Plot the numbers in the output space"
   ]
  },
  {
   "cell_type": "code",
   "execution_count": null,
   "id": "b8eec554-127b-42f4-8e01-dee949eeb307",
   "metadata": {},
   "outputs": [],
   "source": [
    "# Get labels as ints\n",
    "labels = np.argmax(data_generator.train_ds['targets'], axis=1)\n",
    "\n",
    "# Calculate representations of the final model\n",
    "out_x, out_y = model(data_generator.train_ds[\"inputs\"]).T\n",
    "\n",
    "# Combine labels and representaions into dataframe\n",
    "df = pd.DataFrame(zip(out_x, out_y, labels), columns=[\"x\", \"y\", \"label\"])\n",
    "\n",
    "# Plot figure\n",
    "fig, ax = plt.subplots(figsize=(8,5))\n",
    "scatter = ax.scatter(df['x'], df['y'], c=df['label'], label=df['label'], cmap='tab10')\n",
    "legend1 = ax.legend(*scatter.legend_elements(num=10), loc=\"best\", title=\"Number\", framealpha=0)\n",
    "ax.add_artist(legend1)\n",
    "\n",
    "plt.xlabel('x')\n",
    "plt.ylabel('y')\n",
    "plt.title('Output Space')\n",
    "plt.show()"
   ]
  },
  {
   "cell_type": "markdown",
   "id": "c619e1d0-1e1c-4055-a859-f4ca4fe0182b",
   "metadata": {},
   "source": [
    "## InfoNCE Loss"
   ]
  },
  {
   "cell_type": "markdown",
   "id": "11fb9b9e",
   "metadata": {},
   "source": [
    "### Create Model"
   ]
  },
  {
   "cell_type": "code",
   "execution_count": null,
   "id": "e71cd073",
   "metadata": {},
   "outputs": [],
   "source": [
    "class Architecture(nn.Module):\n",
    "    \"\"\"\n",
    "    Simple CNN module.\n",
    "    \"\"\"\n",
    "\n",
    "    @nn.compact\n",
    "    def __call__(self, x):\n",
    "        x = x.reshape((x.shape[0], -1))  # flatten\n",
    "        x = nn.Dense(features=64)(x)\n",
    "        x = nn.relu(x)\n",
    "        x = nn.Dense(features=64)(x)\n",
    "        x = nn.relu(x)\n",
    "        x = nn.Dense(2)(x)\n",
    "        # Use L2 normalization to ensure that the output is on the unit sphere\n",
    "        x = x / np.linalg.norm(x, axis=1, keepdims=True)\n",
    "        return x\n",
    "    \n",
    "model = znnl.models.FlaxModel(\n",
    "    flax_module=Architecture(),\n",
    "    optimizer=optax.adam(learning_rate=0.001),\n",
    "    input_shape=input_shape,\n",
    "    seed=0,\n",
    ")"
   ]
  },
  {
   "cell_type": "markdown",
   "id": "5839785f",
   "metadata": {},
   "source": [
    "### Set up Recorders"
   ]
  },
  {
   "cell_type": "code",
   "execution_count": null,
   "id": "f0d2fe9b",
   "metadata": {},
   "outputs": [],
   "source": [
    "train_recorder = znnl.training_recording.JaxRecorder(\n",
    "    name=\"train_recorder\",\n",
    "    storage_path='.',\n",
    "    # loss=True, \n",
    "    measurements=[\n",
    "        Loss(apply_fn=znnl.loss_functions.ContrastiveInfoNCELoss(temperature=0.05))\n",
    "    ],\n",
    "    update_rate=1, \n",
    ")\n",
    "train_recorder.instantiate_recorder(\n",
    "    data_set=data_generator.train_ds, \n",
    "    model=model\n",
    ")\n",
    "\n",
    "test_recorder = znnl.training_recording.JaxRecorder(\n",
    "    name=\"test_recorder\",\n",
    "    storage_path='.',\n",
    "    measurements=[\n",
    "        Loss(apply_fn=znnl.loss_functions.ContrastiveInfoNCELoss(temperature=0.05))\n",
    "    ],\n",
    "    update_rate=1, \n",
    "    chunk_size=1e10 # Big Chunk-size to prevent saving the recordings.\n",
    ")\n",
    "test_recorder.instantiate_recorder(\n",
    "    data_set=data_generator.test_ds, \n",
    "    model=model\n",
    ")\n",
    "\n",
    "ntk_recorder = znnl.training_recording.JaxRecorder(\n",
    "    name=\"nrk_recorder\",\n",
    "    storage_path='.',\n",
    "    measurements=[NTKTrace(), NTKEntropy()],\n",
    "    update_rate=1, \n",
    "    chunk_size=1e10 # Big Chunk-size to prevent saving the recordings.\n",
    ")\n",
    "ntk_computation = znnl.analysis.JAXNTKComputation(\n",
    "    apply_fn=model.ntk_apply_fn, \n",
    "    batch_size=10,\n",
    ")\n",
    "ntk_recorder.instantiate_recorder(\n",
    "    data_set=data_generator.train_ds, \n",
    "    model=model,\n",
    "    ntk_computation=ntk_computation\n",
    ")\n",
    "\n",
    "recorders = [\n",
    "    train_recorder, \n",
    "    test_recorder, \n",
    "    # ntk_recorder\n",
    "]"
   ]
  },
  {
   "cell_type": "markdown",
   "id": "3d511e9c",
   "metadata": {},
   "source": [
    "### Initialize the Trainer"
   ]
  },
  {
   "cell_type": "code",
   "execution_count": null,
   "id": "26485e19",
   "metadata": {},
   "outputs": [],
   "source": [
    "trainer = znnl.training_strategies.SimpleTraining(\n",
    "    model=model,\n",
    "    loss_fn=znnl.loss_functions.ContrastiveInfoNCELoss(\n",
    "        temperature=0.05\n",
    "    ),\n",
    "    recorders=recorders, \n",
    "    seed=0,\n",
    ")"
   ]
  },
  {
   "cell_type": "markdown",
   "id": "874c9dca",
   "metadata": {},
   "source": [
    "### Execute Training"
   ]
  },
  {
   "cell_type": "code",
   "execution_count": null,
   "id": "5a1ab3b7",
   "metadata": {},
   "outputs": [],
   "source": [
    "batched_loss = trainer.train_model(\n",
    "    train_ds=data_generator.train_ds, \n",
    "    test_ds=data_generator.test_ds, \n",
    "    epochs=50, \n",
    "    batch_size=20, \n",
    ")"
   ]
  },
  {
   "cell_type": "markdown",
   "id": "31d44f3e",
   "metadata": {},
   "source": [
    "### Evaluate Training"
   ]
  },
  {
   "cell_type": "code",
   "execution_count": null,
   "id": "b98115c6",
   "metadata": {},
   "outputs": [],
   "source": [
    "train_results = train_recorder.gather()\n",
    "test_results = test_recorder.gather()\n",
    "\n",
    "ntk_results = ntk_recorder.gather()"
   ]
  },
  {
   "cell_type": "markdown",
   "id": "c3adef87",
   "metadata": {},
   "source": [
    "### Plot the losses over epochs"
   ]
  },
  {
   "cell_type": "code",
   "execution_count": null,
   "id": "cd373f34",
   "metadata": {},
   "outputs": [],
   "source": [
    "plt.figure(figsize=(8, 5))\n",
    "\n",
    "plt.plot(train_results['loss'], label=\"train\")\n",
    "plt.plot(test_results['loss'], label=\"test\")\n",
    "\n",
    "plt.legend()\n",
    "plt.yscale('log')\n",
    "plt.xlabel('Epoch')\n",
    "plt.ylabel('Loss')\n",
    "plt.title('Loss contributions during training')\n",
    "plt.show()"
   ]
  },
  {
   "cell_type": "markdown",
   "id": "d5fcbe2c",
   "metadata": {},
   "source": [
    "### Plot the numbers in the output space"
   ]
  },
  {
   "cell_type": "code",
   "execution_count": null,
   "id": "f0efb36d",
   "metadata": {},
   "outputs": [],
   "source": [
    "# Get labels as ints\n",
    "labels = np.argmax(data_generator.train_ds['targets'], axis=1)\n",
    "\n",
    "# Calculate representations of the final model\n",
    "out_x, out_y = model(data_generator.train_ds[\"inputs\"]).T\n",
    "\n",
    "# Combine labels and representaions into dataframe\n",
    "df = pd.DataFrame(zip(out_x, out_y, labels), columns=[\"x\", \"y\", \"label\"])\n",
    "\n",
    "# Plot figure\n",
    "fig, ax = plt.subplots(figsize=(8,5))\n",
    "scatter = ax.scatter(df['x'], df['y'], c=df['label'], label=df['label'], cmap='tab10')\n",
    "legend1 = ax.legend(*scatter.legend_elements(num=10), loc=\"best\", title=\"Number\", framealpha=0)\n",
    "ax.add_artist(legend1)\n",
    "\n",
    "plt.xlabel('x')\n",
    "plt.ylabel('y')\n",
    "plt.title('Output Space')\n",
    "plt.show()"
   ]
  },
  {
   "cell_type": "code",
   "execution_count": null,
   "id": "f14c9909",
   "metadata": {},
   "outputs": [],
   "source": []
  },
  {
   "cell_type": "code",
   "execution_count": null,
   "id": "afb909f3",
   "metadata": {},
   "outputs": [],
   "source": []
  }
 ],
 "metadata": {
  "kernelspec": {
   "display_name": "Python 3 (ipykernel)",
   "language": "python",
   "name": "python3"
  },
  "language_info": {
   "codemirror_mode": {
    "name": "ipython",
    "version": 3
   },
   "file_extension": ".py",
   "mimetype": "text/x-python",
   "name": "python",
   "nbconvert_exporter": "python",
   "pygments_lexer": "ipython3",
   "version": "3.10.12"
  }
 },
 "nbformat": 4,
 "nbformat_minor": 5
}
