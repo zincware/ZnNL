{
 "cells": [
  {
   "cell_type": "markdown",
   "id": "fbd304b1",
   "metadata": {},
   "source": [
    "# CIFAR10 Example"
   ]
  },
  {
   "cell_type": "code",
   "execution_count": null,
   "id": "b42c9519",
   "metadata": {
    "tags": []
   },
   "outputs": [],
   "source": [
    "import os\n",
    "os.environ['CUDA_VISIBLE_DEVICES'] = '-1'\n",
    "\n",
    "import znnl as nl\n",
    "\n",
    "import tensorflow_datasets as tfds\n",
    "\n",
    "import numpy as np\n",
    "from flax import linen as nn\n",
    "import optax\n",
    "from plotly.subplots import make_subplots\n",
    "import plotly.graph_objects as go\n",
    "import plotly.express as px\n",
    "\n",
    "import jax\n",
    "print(jax.default_backend())"
   ]
  },
  {
   "cell_type": "code",
   "execution_count": null,
   "id": "dba15f7c",
   "metadata": {
    "tags": []
   },
   "outputs": [],
   "source": [
    "data_generator = nl.data.CIFAR10Generator()"
   ]
  },
  {
   "cell_type": "code",
   "execution_count": null,
   "id": "fc119925",
   "metadata": {},
   "outputs": [],
   "source": [
    "data_generator.plot_image(indices=[0, 1, 2, 3, 4])"
   ]
  },
  {
   "cell_type": "code",
   "execution_count": null,
   "id": "a98e3c50",
   "metadata": {},
   "outputs": [],
   "source": [
    "class ProductionModule(nn.Module):\n",
    "    \"\"\"\n",
    "    Simple CNN module.\n",
    "    \"\"\"\n",
    "\n",
    "    @nn.compact\n",
    "    def __call__(self, x):\n",
    "        x = nn.Conv(features=128, kernel_size=(3, 3))(x)\n",
    "        x = nn.relu(x)\n",
    "        x = nn.max_pool(x, window_shape=(3, 3), strides=(2, 2))\n",
    "        x = nn.Conv(features=128, kernel_size=(3, 3))(x)\n",
    "        x = nn.relu(x)\n",
    "        x = nn.max_pool(x, window_shape=(3, 3), strides=(2, 2))\n",
    "        x = x.reshape((x.shape[0], -1))  # flatten\n",
    "        x = nn.Dense(features=300)(x)\n",
    "        x = nn.relu(x)\n",
    "        x = nn.Dense(10)(x)\n",
    "\n",
    "        return x"
   ]
  },
  {
   "cell_type": "code",
   "execution_count": null,
   "id": "06b532ca",
   "metadata": {},
   "outputs": [],
   "source": [
    "production_model = nl.models.FlaxModel(\n",
    "            flax_module=ProductionModule(),\n",
    "            optimizer=optax.adam(learning_rate=0.01),\n",
    "            input_shape=(1, 32, 32, 3),\n",
    "        )\n",
    "\n",
    "training_strategy = nl.training_strategies.SimpleTraining(\n",
    "    model=production_model, \n",
    "    loss_fn=nl.loss_functions.CrossEntropyLoss(),\n",
    "    accuracy_fn=nl.accuracy_functions.LabelAccuracy(),\n",
    ")"
   ]
  },
  {
   "cell_type": "code",
   "execution_count": null,
   "id": "43952d12",
   "metadata": {},
   "outputs": [],
   "source": [
    "batch_wise_training_metrics = training_strategy.train_model(\n",
    "    train_ds={\"inputs\": data_generator.train_ds[\"inputs\"], \"targets\": data_generator.train_ds[\"targets\"]},\n",
    "    test_ds={\"inputs\": data_generator.test_ds[\"inputs\"], \"targets\": data_generator.test_ds[\"targets\"]},\n",
    "    batch_size=100,\n",
    ")"
   ]
  },
  {
   "cell_type": "markdown",
   "id": "16a62c7a",
   "metadata": {},
   "source": [
    "## Random Data Selection"
   ]
  },
  {
   "cell_type": "code",
   "execution_count": null,
   "id": "7e78f9eb",
   "metadata": {},
   "outputs": [],
   "source": [
    "class RNDModule(nn.Module):\n",
    "    \"\"\"\n",
    "    Simple CNN module.\n",
    "    \"\"\"\n",
    "    \n",
    "    @nn.compact\n",
    "    def __call__(self, x):\n",
    "        x = nn.Conv(features=128, kernel_size=(3, 3))(x)\n",
    "        x = nn.relu(x)\n",
    "        x = nn.max_pool(x, window_shape=(3, 3), strides=(2, 2))\n",
    "        x = nn.Conv(features=128, kernel_size=(3, 3))(x)\n",
    "        x = nn.relu(x)\n",
    "        x = nn.max_pool(x, window_shape=(3, 3), strides=(2, 2))\n",
    "        x = x.reshape((x.shape[0], -1))  # flatten\n",
    "        x = nn.Dense(features=300)(x)\n",
    "\n",
    "        return x"
   ]
  },
  {
   "cell_type": "code",
   "execution_count": null,
   "id": "21b75cc5",
   "metadata": {},
   "outputs": [],
   "source": [
    "target = nl.models.FlaxModel(\n",
    "            flax_module=RNDModule(),\n",
    "            optimizer=optax.adam(learning_rate=0.01),\n",
    "            input_shape=(1, 32, 32, 3),\n",
    "        )\n",
    "predictor = nl.models.FlaxModel(\n",
    "            flax_module=RNDModule(),\n",
    "            optimizer=optax.adam(learning_rate=0.01),\n",
    "            input_shape=(1, 32, 32, 3),\n",
    "        )"
   ]
  },
  {
   "cell_type": "code",
   "execution_count": null,
   "id": "34d6050f",
   "metadata": {},
   "outputs": [],
   "source": [
    "rng_agent = nl.agents.RandomAgent(data_generator=data_generator)"
   ]
  },
  {
   "cell_type": "code",
   "execution_count": null,
   "id": "9bcd39b5",
   "metadata": {
    "scrolled": true
   },
   "outputs": [],
   "source": [
    "ds = rng_agent.build_dataset(300)"
   ]
  },
  {
   "cell_type": "code",
   "execution_count": null,
   "id": "6a2cb24c",
   "metadata": {},
   "outputs": [],
   "source": [
    "train_ds = {\n",
    "    \"inputs\": np.take(data_generator.train_ds[\"inputs\"], rng_agent.target_indices, axis=0),\n",
    "    \"targets\": np.take(data_generator.train_ds[\"targets\"], rng_agent.target_indices, axis=0)\n",
    "}"
   ]
  },
  {
   "cell_type": "code",
   "execution_count": null,
   "id": "0b93f759",
   "metadata": {
    "scrolled": true
   },
   "outputs": [],
   "source": [
    "training_strategy = nl.training_strategies.SimpleTraining(\n",
    "    model=production_model, \n",
    "    loss_fn=nl.loss_functions.MeanPowerLoss(order=2),\n",
    "    accuracy_fn=nl.accuracy_functions.LabelAccuracy(),\n",
    ")\n",
    "training_strategy.train_model(\n",
    "    train_ds=train_ds, \n",
    "    test_ds=data_generator.test_ds,\n",
    "    epochs=100,\n",
    "    batch_size=50\n",
    ")"
   ]
  },
  {
   "cell_type": "code",
   "execution_count": null,
   "id": "32b01f9b",
   "metadata": {},
   "outputs": [],
   "source": []
  }
 ],
 "metadata": {
  "kernelspec": {
   "display_name": "Python 3 (ipykernel)",
   "language": "python",
   "name": "python3"
  },
  "language_info": {
   "codemirror_mode": {
    "name": "ipython",
    "version": 3
   },
   "file_extension": ".py",
   "mimetype": "text/x-python",
   "name": "python",
   "nbconvert_exporter": "python",
   "pygments_lexer": "ipython3",
   "version": "3.10.12"
  }
 },
 "nbformat": 4,
 "nbformat_minor": 5
}
