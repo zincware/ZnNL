{
 "cells": [
  {
   "cell_type": "markdown",
   "id": "fbd304b1",
   "metadata": {},
   "source": [
    "# Using Transformers from Huggingface\n",
    "This is an example notebook of how to use Huggingface models with ZnNL"
   ]
  },
  {
   "cell_type": "code",
   "execution_count": null,
   "id": "b42c9519",
   "metadata": {
    "tags": []
   },
   "outputs": [],
   "source": [
    "# import os\n",
    "# os.environ['CUDA_VISIBLE_DEVICES'] = '-1'\n",
    "\n",
    "import znnl as nl\n",
    "\n",
    "import numpy as np\n",
    "import optax\n",
    "\n",
    "from znnl.models import HuggingFaceFlaxModel\n",
    "from transformers import ResNetConfig, FlaxResNetForImageClassification\n",
    "import jax\n",
    "print(jax.default_backend())"
   ]
  },
  {
   "cell_type": "code",
   "execution_count": null,
   "id": "dba15f7c",
   "metadata": {
    "tags": []
   },
   "outputs": [],
   "source": [
    "data_generator = nl.data.CIFAR10Generator(2)\n",
    "\n",
    "# Input data needs to have shape (num_points, channels, height, width)\n",
    "train_ds={\"inputs\": np.swapaxes(data_generator.train_ds[\"inputs\"], 1, 3), \"targets\": data_generator.train_ds[\"targets\"]}\n",
    "test_ds={\"inputs\": np.swapaxes(data_generator.test_ds[\"inputs\"], 1, 3), \"targets\": data_generator.test_ds[\"targets\"]}\n",
    "\n",
    "data_generator.train_ds = train_ds\n",
    "data_generator.test_ds = test_ds"
   ]
  },
  {
   "cell_type": "markdown",
   "id": "d4580ffd",
   "metadata": {},
   "source": [
    "# Execute"
   ]
  },
  {
   "cell_type": "markdown",
   "metadata": {},
   "source": [
    "## Two default architectures"
   ]
  },
  {
   "cell_type": "markdown",
   "metadata": {},
   "source": [
    "```python \n",
    "# Two standard ResNet architectures\n",
    "\n",
    "resnet50_config = ResNetConfig(\n",
    "    num_channels = 3,\n",
    "    embedding_size = 64, \n",
    "    hidden_sizes = [256, 512, 1024, 2048], \n",
    "    depths = [3, 4, 6, 3], \n",
    "    layer_type = 'bottleneck', \n",
    "    hidden_act = 'relu', \n",
    "    downsample_in_first_stage = False, \n",
    "    out_features = None, \n",
    "    out_indices = None, \n",
    "    id2label = {i: i for i in range(10)}, # Dummy labels to define the output dimension\n",
    "    return_dict = True,\n",
    ")\n",
    "\n",
    "# ResNet-18 taken from https://huggingface.co/microsoft/resnet-18/blob/main/config.json\n",
    "resnet18_config = ResNetConfig(\n",
    "    num_channels = 3,\n",
    "    embedding_size = 64, \n",
    "    hidden_sizes = [64, 128, 256, 512], \n",
    "    depths = [2, 2, 2, 2], \n",
    "    layer_type = 'basic', \n",
    "    hidden_act = 'relu', \n",
    "    downsample_in_first_stage = False, \n",
    "    id2label = {i: i for i in range(10)}, # Dummy labels to define the output dimension\n",
    "    return_dict = True,\n",
    ")\n",
    "```"
   ]
  },
  {
   "cell_type": "markdown",
   "metadata": {},
   "source": [
    "## Some example execution code"
   ]
  },
  {
   "cell_type": "code",
   "execution_count": null,
   "id": "9392cd92",
   "metadata": {},
   "outputs": [],
   "source": [
    "# From scratch\n",
    "\n",
    "resnet_config = ResNetConfig(\n",
    "    num_channels = 3,\n",
    "    embedding_size = 12, \n",
    "    hidden_sizes = [6, 6, 6], \n",
    "    depths = [2, 2, 2], \n",
    "    layer_type = 'basic', \n",
    "    hidden_act = 'relu', \n",
    "    downsample_in_first_stage = False, \n",
    "    out_features = None, \n",
    "    out_indices = None, \n",
    "    id2label = {i: i for i in range(10)}, # Dummy labels to define the output dimension\n",
    "    return_dict = True,\n",
    ")\n",
    "\n",
    "\n",
    "_model = FlaxResNetForImageClassification(\n",
    "    config=resnet_config,\n",
    "    input_shape=(1, 32, 32, 3),\n",
    "    seed=0,\n",
    "    _do_init = True,\n",
    ")\n",
    "\n",
    "model = HuggingFaceFlaxModel(\n",
    "    _model, \n",
    "    optax.adam(learning_rate=1e-3),\n",
    "    store_on_device=False,\n",
    "    batch_size=2,\n",
    ")"
   ]
  },
  {
   "cell_type": "code",
   "execution_count": null,
   "id": "5868f984",
   "metadata": {},
   "outputs": [],
   "source": [
    "train_recorder = nl.training_recording.JaxRecorder(\n",
    "    name=\"train_recorder\",\n",
    "    loss=True,\n",
    "    accuracy=True,\n",
    "    ntk=True,\n",
    "    covariance_entropy=True,\n",
    "    magnitude_variance=True, \n",
    "    trace=True,\n",
    "    loss_derivative=True,\n",
    "    update_rate=1, \n",
    "    chunk_size=1000,\n",
    ")\n",
    "train_recorder.instantiate_recorder(\n",
    "    data_set=data_generator.train_ds\n",
    ")\n",
    "\n",
    "trainer = nl.training_strategies.SimpleTraining(\n",
    "    model=model, \n",
    "    loss_fn=nl.loss_functions.CrossEntropyLoss(),\n",
    "    accuracy_fn=nl.accuracy_functions.LabelAccuracy(),\n",
    "    recorders=[train_recorder],\n",
    ")"
   ]
  },
  {
   "cell_type": "code",
   "execution_count": null,
   "id": "3215d048",
   "metadata": {},
   "outputs": [],
   "source": [
    "batch_wise_training_metrics = trainer.train_model(\n",
    "    train_ds=data_generator.train_ds,\n",
    "    test_ds=data_generator.test_ds,\n",
    "    batch_size=2,\n",
    "    epochs=10,\n",
    ")"
   ]
  },
  {
   "cell_type": "markdown",
   "metadata": {},
   "source": [
    "### Check the results"
   ]
  },
  {
   "cell_type": "code",
   "execution_count": null,
   "metadata": {},
   "outputs": [],
   "source": [
    "import matplotlib.pyplot as plt"
   ]
  },
  {
   "cell_type": "code",
   "execution_count": null,
   "id": "57f9421f",
   "metadata": {},
   "outputs": [],
   "source": [
    "train_report = train_recorder.gather_recording()\n",
    "num_params = jax.flatten_util.ravel_pytree(model.model_state.params)[0].shape"
   ]
  },
  {
   "cell_type": "code",
   "execution_count": null,
   "id": "93fa752a",
   "metadata": {},
   "outputs": [],
   "source": [
    "plt.plot(batch_wise_training_metrics['train_losses'], label='train loss')\n",
    "plt.plot(train_report.covariance_entropy, label=\"covariance_entropy\")\n",
    "plt.plot(train_report.trace/num_params, label=\"trace\")\n",
    "plt.yscale(\"log\")\n",
    "plt.legend()\n",
    "plt.show()"
   ]
  },
  {
   "cell_type": "markdown",
   "metadata": {},
   "source": [
    "# Train Flag \n",
    "\n",
    "Using the kwarg `train = True` is used in the forward pass to train the model to data. \n",
    "How this differs from the setting the kwarg to `False` can be found in:\n",
    "https://flax.readthedocs.io/en/latest/_modules/flax/linen/normalization.html#BatchNorm\n",
    "\n",
    "I don't understand the difference being made in a forward pass when the model is being trained or not.\n",
    "However, the difference is clearly visible when training a model in the following."
   ]
  },
  {
   "cell_type": "code",
   "execution_count": null,
   "metadata": {},
   "outputs": [],
   "source": [
    "from jax import random\n",
    "from znnl.training_strategies import SimpleTraining\n",
    "from znnl.loss_functions import CrossEntropyLoss\n",
    "from transformers import FlaxResNetForImageClassification, ResNetConfig\n",
    "from znnl.models import HuggingFaceFlaxModel\n",
    "import optax\n",
    "import jax.numpy as np\n",
    "from znnl.training_recording import JaxRecorder"
   ]
  },
  {
   "cell_type": "code",
   "execution_count": null,
   "metadata": {},
   "outputs": [],
   "source": [
    "resnet_config = ResNetConfig(\n",
    "    num_channels = 2,\n",
    "    embedding_size = 24, \n",
    "    hidden_sizes = [12, 12, 12], \n",
    "    depths = [2, 2, 2], \n",
    "    layer_type = 'basic', \n",
    "    hidden_act = 'relu', \n",
    "    downsample_in_first_stage = False, \n",
    "    out_features = None, \n",
    "    out_indices = None, \n",
    "    id2label = {i: i for i in range(3)}, # Dummy labels to define the output dimension\n",
    "    return_dict = True,\n",
    ")\n",
    "\n",
    "_resnet = FlaxResNetForImageClassification(\n",
    "    config=resnet_config,\n",
    "    input_shape=(1, 8, 8, 2),\n",
    "    seed=0,\n",
    "    _do_init=True,\n",
    ")\n",
    "\n",
    "resnet = HuggingFaceFlaxModel(\n",
    "    _resnet,\n",
    "    optax.sgd(learning_rate=1e-4),\n",
    "    batch_size=3,\n",
    ")\n",
    "\n",
    "\n",
    "key = random.PRNGKey(0)\n",
    "train_ds = {\n",
    "    \"inputs\": random.normal(key, (30, 2, 8, 8)),\n",
    "    \"targets\": np.repeat(np.eye(3), 10, axis=0),\n",
    "}\n",
    "\n",
    "train_recorder = JaxRecorder(\n",
    "    name=\"train_recorder\",\n",
    "    loss=True,\n",
    "    update_rate=1, \n",
    "    chunk_size=1e5\n",
    ")\n",
    "train_recorder.instantiate_recorder(\n",
    "    data_set=train_ds\n",
    ")\n",
    "\n",
    "\n",
    "trainer = SimpleTraining(\n",
    "    model=resnet,\n",
    "    loss_fn=CrossEntropyLoss(),\n",
    "    recorders=[train_recorder],\n",
    ")"
   ]
  },
  {
   "cell_type": "code",
   "execution_count": null,
   "metadata": {},
   "outputs": [],
   "source": [
    "# To run the study just uncomment the following block\n",
    "\n",
    "# batched_loss = trainer.train_model(\n",
    "#     train_ds=train_ds,\n",
    "#     test_ds=train_ds,\n",
    "#     epochs=200,\n",
    "#     batch_size=30,\n",
    "# )"
   ]
  },
  {
   "cell_type": "markdown",
   "metadata": {},
   "source": [
    "The following code example shows the difference in the forward pass using `train=True` and `train=False`.\n",
    "\n",
    "The function that is used to evaluate the model in the recorder is defined with `train=False`. \n",
    "The forward pass evaluated in the training itself is defined with `train=True`. "
   ]
  },
  {
   "cell_type": "code",
   "execution_count": null,
   "metadata": {},
   "outputs": [],
   "source": [
    "import matplotlib.pyplot as plt\n",
    "\n",
    "train_report = train_recorder.gather_recording()\n",
    "\n",
    "plt.plot(train_report.loss, label=\"loss using train=False\")\n",
    "plt.yscale(\"log\")\n",
    "plt.plot(batched_loss['train_losses'], label=\"loss using train=True\")\n",
    "plt.yscale(\"log\")\n",
    "plt.title(\"Train Losses\")\n",
    "plt.legend()"
   ]
  },
  {
   "cell_type": "code",
   "execution_count": null,
   "metadata": {},
   "outputs": [],
   "source": []
  }
 ],
 "metadata": {
  "kernelspec": {
   "display_name": "Python 3 (ipykernel)",
   "language": "python",
   "name": "python3"
  },
  "language_info": {
   "codemirror_mode": {
    "name": "ipython",
    "version": 3
   },
   "file_extension": ".py",
   "mimetype": "text/x-python",
   "name": "python",
   "nbconvert_exporter": "python",
   "pygments_lexer": "ipython3",
   "version": "3.10.12"
  }
 },
 "nbformat": 4,
 "nbformat_minor": 5
}
