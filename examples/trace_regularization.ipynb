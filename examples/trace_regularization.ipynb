{
 "cells": [
  {
   "cell_type": "code",
   "execution_count": 2,
   "id": "a85c316a-b950-448e-a264-4d0e6983790e",
   "metadata": {},
   "outputs": [
    {
     "name": "stderr",
     "output_type": "stream",
     "text": [
      "2023-09-15 10:34:04.592578: W external/org_tensorflow/tensorflow/stream_executor/platform/default/dso_loader.cc:64] Could not load dynamic library 'libcudart.so.11.0'; dlerror: libcudart.so.11.0: cannot open shared object file: No such file or directory\n",
      "2023-09-15 10:34:07.399717: W external/org_tensorflow/tensorflow/stream_executor/platform/default/dso_loader.cc:64] Could not load dynamic library 'libcudart.so.11.0'; dlerror: libcudart.so.11.0: cannot open shared object file: No such file or directory\n",
      "2023-09-15 10:34:07.557578: W external/org_tensorflow/tensorflow/stream_executor/platform/default/dso_loader.cc:64] Could not load dynamic library 'libcudart.so.11.0'; dlerror: libcudart.so.11.0: cannot open shared object file: No such file or directory\n",
      "2023-09-15 10:34:18.138292: W tensorflow/stream_executor/platform/default/dso_loader.cc:64] Could not load dynamic library 'libcudart.so.11.0'; dlerror: libcudart.so.11.0: cannot open shared object file: No such file or directory\n",
      "/tikhome/knikolaou/miniconda3/envs/jax/lib/python3.10/site-packages/tqdm/auto.py:22: TqdmWarning: IProgress not found. Please update jupyter and ipywidgets. See https://ipywidgets.readthedocs.io/en/stable/user_install.html\n",
      "  from .autonotebook import tqdm as notebook_tqdm\n",
      "2023-09-15 10:34:39.677801: E external/org_tensorflow/tensorflow/stream_executor/cuda/cuda_driver.cc:265] failed call to cuInit: CUDA_ERROR_NO_DEVICE: no CUDA-capable device is detected\n",
      "WARNING:absl:No GPU/TPU found, falling back to CPU. (Set TF_CPP_MIN_LOG_LEVEL=0 and rerun for more info.)\n"
     ]
    },
    {
     "data": {
      "text/html": [
       "<pre style=\"white-space:pre;overflow-x:auto;line-height:normal;font-family:Menlo,'DejaVu Sans Mono',consolas,'Courier New',monospace\">Using backend: cpu\n",
       "</pre>\n"
      ],
      "text/plain": [
       "Using backend: cpu\n"
      ]
     },
     "metadata": {},
     "output_type": "display_data"
    },
    {
     "data": {
      "text/html": [
       "<pre style=\"white-space:pre;overflow-x:auto;line-height:normal;font-family:Menlo,'DejaVu Sans Mono',consolas,'Courier New',monospace\">Available hardware:\n",
       "</pre>\n"
      ],
      "text/plain": [
       "Available hardware:\n"
      ]
     },
     "metadata": {},
     "output_type": "display_data"
    },
    {
     "data": {
      "text/html": [
       "<pre style=\"white-space:pre;overflow-x:auto;line-height:normal;font-family:Menlo,'DejaVu Sans Mono',consolas,'Courier New',monospace\">TFRT_CPU_0\n",
       "</pre>\n"
      ],
      "text/plain": [
       "TFRT_CPU_0\n"
      ]
     },
     "metadata": {},
     "output_type": "display_data"
    }
   ],
   "source": [
    "import os\n",
    "os.environ['CUDA_VISIBLE_DEVICES'] = '-1'\n",
    "\n",
    "import jax\n",
    "import znnl\n",
    "from neural_tangents import stax\n",
    "import copy\n",
    "import optax\n",
    "\n",
    "from flax import linen as nn\n",
    "import flax\n",
    "import jax.nn.initializers as inits\n",
    "\n",
    "import matplotlib.pyplot as plt\n",
    "\n",
    "import numpy as onp\n",
    "import jax.numpy as np\n",
    "# import time"
   ]
  },
  {
   "attachments": {},
   "cell_type": "markdown",
   "id": "4d5500f3",
   "metadata": {},
   "source": [
    "# Including the trace regularization"
   ]
  },
  {
   "cell_type": "code",
   "execution_count": 3,
   "id": "afc55b14",
   "metadata": {},
   "outputs": [],
   "source": [
    "from flax.training.train_state import TrainState\n",
    "from znnl.training_strategies import SimpleTraining\n",
    "from typing import Callable, List, Optional, Tuple, Union\n",
    "from znnl.accuracy_functions.accuracy_function import AccuracyFunction\n",
    "from znnl.models.jax_model import JaxModel\n",
    "from znnl.training_strategies.recursive_mode import RecursiveMode"
   ]
  },
  {
   "attachments": {},
   "cell_type": "markdown",
   "id": "43d14db8",
   "metadata": {},
   "source": [
    "## Raw code"
   ]
  },
  {
   "cell_type": "code",
   "execution_count": 212,
   "id": "c3e142f6",
   "metadata": {},
   "outputs": [],
   "source": [
    "class RegularizedTraining(SimpleTraining):\n",
    "\n",
    "    def __init__(\n",
    "        self,\n",
    "        model: Union[JaxModel, None],\n",
    "        loss_fn: Callable,\n",
    "        accuracy_fn: AccuracyFunction = None,\n",
    "        seed: int = None,\n",
    "        recursive_mode: RecursiveMode = None,\n",
    "        disable_loading_bar: bool = False,\n",
    "        recorders: List[\"JaxRecorder\"] = None,\n",
    "        regularization: float = 0.0,        \n",
    "    ):\n",
    "        \"\"\"\n",
    "        Construct a simple training strategy for a model.\n",
    "\n",
    "        Parameters\n",
    "        ----------\n",
    "        model : Union[JaxModel, None]\n",
    "                Model class for a Jax model.\n",
    "                \"None\" is only used if the training strategy is passed as an input\n",
    "                to a bigger framework. The strategy then is applied to the framework\n",
    "                and the model instantiation is handled by that framework.\n",
    "        loss_fn : Callable\n",
    "                A function to use in the loss computation.\n",
    "        accuracy_fn : AccuracyFunction (default = None)\n",
    "                Funktion class for computing the accuracy of model and given data.\n",
    "        seed : int (default = None)\n",
    "                Random seed for the RNG. Uses a random int if not specified.\n",
    "        recursive_mode : RecursiveMode\n",
    "                Defining the recursive mode that can be used in training.\n",
    "                If the recursive mode is used, the training will be performed until a\n",
    "                condition is fulfilled.\n",
    "        disable_loading_bar : bool\n",
    "                Disable the output visualization of the loading bar.\n",
    "        recorders : List[JaxRecorder]\n",
    "                A list of recorders to monitor model training.\n",
    "        \"\"\"\n",
    "        super().__init__(\n",
    "            model=model,\n",
    "            loss_fn=loss_fn,\n",
    "            accuracy_fn=accuracy_fn,\n",
    "            seed=seed,\n",
    "            recursive_mode=recursive_mode,\n",
    "            disable_loading_bar=disable_loading_bar,\n",
    "            recorders=recorders,\n",
    "        )\n",
    "        self.regularization = regularization\n",
    "\n",
    "                \n",
    "    def _train_step(self, state: TrainState, batch: dict):\n",
    "        \"\"\"\n",
    "        Train a single step.\n",
    "\n",
    "        Parameters\n",
    "        ----------\n",
    "        state : TrainState\n",
    "                Current state of the neural network.\n",
    "        batch : dict\n",
    "                Batch of data to train on.\n",
    "\n",
    "        Returns\n",
    "        -------\n",
    "        state : dict\n",
    "                Updated state of the neural network.\n",
    "        metrics : dict\n",
    "                Metrics for the current model.\n",
    "        \"\"\"\n",
    "\n",
    "        # def network_grad_fn(params):\n",
    "        #         \"\"\"\n",
    "        #         helper grad computation\n",
    "        #         \"\"\"\n",
    "        #         traced_predictions = self.model.apply(params, batch[\"inputs\"]).sum(axis=1)\n",
    "        #         ntk_trace_values = np.mean(traced_predictions)\n",
    "        #         return ntk_trace_values \n",
    "        \n",
    "        def network_grad_fn(params):\n",
    "            \"\"\"\n",
    "            helper grad computation\n",
    "\n",
    "            Returns\n",
    "            -------\n",
    "            ntk_trace_values : float, shape=(batch_size,)\n",
    "                    Model predictions, averaged over the output dimension.\n",
    "            \"\"\"\n",
    "            traced_predictions = self.model.apply(params, batch[\"inputs\"])\n",
    "            return traced_predictions \n",
    "\n",
    "        def loss_fn(params):\n",
    "            \"\"\"\n",
    "            helper loss computation\n",
    "            \"\"\"\n",
    "            inner_predictions = self.model.apply(params, batch[\"inputs\"])\n",
    "            loss = self.loss_fn(inner_predictions, batch[\"targets\"])\n",
    "\n",
    "            # # Add gradient regularization\n",
    "            # if self.regularization > 0.0:\n",
    "            #         grad = jax.grad(network_grad_fn)(params)\n",
    "            #         grad_square = jax.tree_util.tree_map(lambda x: x ** 2, grad)\n",
    "            #         loss += self.regularization * jax.flatten_util.ravel_pytree(grad_square)[0].mean()\n",
    "\n",
    "            # Add gradient regularization\n",
    "            if self.regularization > 0.0:\n",
    "                # Compute gradient of shape=(batch_size, n_outputs, params)\n",
    "                grad = jax.jacrev(network_grad_fn)(params)\n",
    "                # Compute squared gradient of shape=(batch_size, n_outputs, params)\n",
    "                grad_square = jax.tree_util.tree_map(lambda x: x ** 2, grad)\n",
    "                # Average over all axes except the batch axis.\n",
    "                idx_tree = jax.tree_util.tree_map(lambda x: tuple(range(1, len(x.shape))), grad_square)\n",
    "                grad_sum = jax.tree_util.tree_map(lambda x, y: np.mean(x, axis=y), grad_square, idx_tree)\n",
    "                # Add regularization term to loss.\n",
    "                loss += self.regularization * jax.flatten_util.ravel_pytree(grad_sum)[0].mean()\n",
    "\n",
    "            return loss, inner_predictions\n",
    "        \n",
    "        grad_fn = jax.value_and_grad(loss_fn, has_aux=True)\n",
    "\n",
    "        (_, predictions), grads = grad_fn(state.params)\n",
    "\n",
    "        state = state.apply_gradients(grads=grads)  # in place state update.\n",
    "        metrics = self._compute_metrics(\n",
    "            predictions=predictions, targets=batch[\"targets\"]\n",
    "        )\n",
    "\n",
    "        return state, metrics"
   ]
  },
  {
   "attachments": {},
   "cell_type": "markdown",
   "id": "18b586ac",
   "metadata": {},
   "source": [
    "## Code with Regularizer class"
   ]
  },
  {
   "cell_type": "code",
   "execution_count": 223,
   "id": "19f5363d",
   "metadata": {},
   "outputs": [],
   "source": [
    "from abc import ABC"
   ]
  },
  {
   "cell_type": "code",
   "execution_count": 246,
   "id": "8c6db596",
   "metadata": {},
   "outputs": [],
   "source": [
    "class RegularizedTraining(SimpleTraining):\n",
    "\n",
    "    def __init__(\n",
    "        self,\n",
    "        model: Union[JaxModel, None],\n",
    "        loss_fn: Callable,\n",
    "        accuracy_fn: AccuracyFunction = None,\n",
    "        seed: int = None,\n",
    "        recursive_mode: RecursiveMode = None,\n",
    "        disable_loading_bar: bool = False,\n",
    "        recorders: List[\"JaxRecorder\"] = None,\n",
    "        regulizer: Regularizer = None,\n",
    "    ):\n",
    "        \"\"\"\n",
    "        Construct a simple training strategy for a model.\n",
    "\n",
    "        Parameters\n",
    "        ----------\n",
    "        model : Union[JaxModel, None]\n",
    "                Model class for a Jax model.\n",
    "                \"None\" is only used if the training strategy is passed as an input\n",
    "                to a bigger framework. The strategy then is applied to the framework\n",
    "                and the model instantiation is handled by that framework.\n",
    "        loss_fn : Callable\n",
    "                A function to use in the loss computation.\n",
    "        accuracy_fn : AccuracyFunction (default = None)\n",
    "                Funktion class for computing the accuracy of model and given data.\n",
    "        seed : int (default = None)\n",
    "                Random seed for the RNG. Uses a random int if not specified.\n",
    "        recursive_mode : RecursiveMode\n",
    "                Defining the recursive mode that can be used in training.\n",
    "                If the recursive mode is used, the training will be performed until a\n",
    "                condition is fulfilled.\n",
    "        disable_loading_bar : bool\n",
    "                Disable the output visualization of the loading bar.\n",
    "        recorders : List[JaxRecorder]\n",
    "                A list of recorders to monitor model training.\n",
    "        regularizer : Regularizer\n",
    "                Regularizer class for including a regularizer in the training.\n",
    "        \"\"\"\n",
    "        super().__init__(\n",
    "            model=model,\n",
    "            loss_fn=loss_fn,\n",
    "            accuracy_fn=accuracy_fn,\n",
    "            seed=seed,\n",
    "            recursive_mode=recursive_mode,\n",
    "            disable_loading_bar=disable_loading_bar,\n",
    "            recorders=recorders,\n",
    "        )\n",
    "        self.regularizer = regulizer\n",
    "\n",
    "                \n",
    "    def _train_step(self, state: TrainState, batch: dict):\n",
    "        \"\"\"\n",
    "        Train a single step.\n",
    "\n",
    "        Parameters\n",
    "        ----------\n",
    "        state : TrainState\n",
    "                Current state of the neural network.\n",
    "        batch : dict\n",
    "                Batch of data to train on.\n",
    "\n",
    "        Returns\n",
    "        -------\n",
    "        state : dict\n",
    "                Updated state of the neural network.\n",
    "        metrics : dict\n",
    "                Metrics for the current model.\n",
    "        \"\"\"\n",
    "\n",
    "        def loss_fn(params):\n",
    "            \"\"\"\n",
    "            helper loss computation\n",
    "            \"\"\"\n",
    "            inner_predictions = self.model.apply(params, batch[\"inputs\"])\n",
    "            loss = self.loss_fn(inner_predictions, batch[\"targets\"])\n",
    "\n",
    "            # Add gradient regularization\n",
    "            if self.regularizer:\n",
    "                reg_loss = self.regularizer(self.model.apply, params, batch)\n",
    "                loss += reg_loss\n",
    "            return loss, inner_predictions\n",
    "        \n",
    "        grad_fn = jax.value_and_grad(loss_fn, has_aux=True)\n",
    "\n",
    "        (_, predictions), grads = grad_fn(state.params)\n",
    "\n",
    "        state = state.apply_gradients(grads=grads)  # in place state update.\n",
    "        metrics = self._compute_metrics(\n",
    "            predictions=predictions, targets=batch[\"targets\"]\n",
    "        )\n",
    "\n",
    "        return state, metrics"
   ]
  },
  {
   "cell_type": "code",
   "execution_count": 378,
   "id": "6e53a336",
   "metadata": {},
   "outputs": [],
   "source": [
    "class Regularizer(ABC):\n",
    "    \"\"\"\n",
    "    Parent class for all regularizers.\n",
    "    \"\"\"\n",
    "\n",
    "    def __init__(self, reg_factor) -> None:\n",
    "        \"\"\"\n",
    "        Constructor of the regularizer class.\n",
    "\n",
    "        Parameters\n",
    "        ----------\n",
    "        reg_factor : float\n",
    "                Regularization factor.\n",
    "        \"\"\"\n",
    "        self.reg_factor = reg_factor\n",
    "    \n",
    "    def __call__(self, apply_fn, params, batch):\n",
    "        \"\"\"\n",
    "        Call function of the regularizer class.\n",
    "\n",
    "        Parameters\n",
    "        ----------\n",
    "        params : dict\n",
    "                Parameters of the model.\n",
    "\n",
    "        Returns\n",
    "        -------\n",
    "        reg_loss : float\n",
    "                Regularization loss.\n",
    "        \"\"\"\n",
    "        raise NotImplementedError\n",
    "    \n",
    "\n",
    "class TraceRegularizer(Regularizer):\n",
    "    \"\"\"\n",
    "    Trace regularizer class.\n",
    "\n",
    "    Regularizing gradient based learning with proportional to the trace of the NTK.\n",
    "    As the trace of the NTK is calculated from the gradients of the model, the\n",
    "    regularizer is implemented as a function of the gradients.\n",
    "    \"\"\"\n",
    "\n",
    "    def __init__(self, reg_factor) -> None:\n",
    "        super().__init__(reg_factor)    \n",
    "    \n",
    "    def __call__(self, apply_fn, params, batch):\n",
    "        \"\"\"\n",
    "        Call function of the trace regularizer class.\n",
    "\n",
    "        Parameters\n",
    "        ----------\n",
    "        grads : dict\n",
    "                Gradients of the model.\n",
    "\n",
    "        Returns\n",
    "        -------\n",
    "        reg_loss : float\n",
    "                Regularization loss.\n",
    "        \"\"\"\n",
    "\n",
    "        def grad_helper_fn(params):\n",
    "            \"\"\"\n",
    "            helper grad computation\n",
    "\n",
    "            Returns\n",
    "            -------\n",
    "            ntk_trace_values : float, shape=(batch_size,)\n",
    "                    Model predictions, averaged over the output dimension.\n",
    "            \"\"\"\n",
    "            traced_predictions = apply_fn(params, batch[\"inputs\"])\n",
    "            return traced_predictions  \n",
    "\n",
    "        # Compute gradient of shape=(batch_size, n_outputs, params)\n",
    "        grad = jax.jacrev(grad_helper_fn)(params)\n",
    "        # Compute squared gradient of shape=(batch_size, n_outputs, params)\n",
    "        grad_square = jax.tree_util.tree_map(lambda x: x ** 2, grad)\n",
    "        # Average over all axes except the batch axis.\n",
    "        idx_tree = jax.tree_util.tree_map(lambda x: tuple(range(1, len(x.shape))), grad_square)\n",
    "        grad_sum = jax.tree_util.tree_map(lambda x, y: np.mean(x, axis=y), grad_square, idx_tree)\n",
    "        # Add regularization term to loss.\n",
    "        reg_loss = self.reg_factor * jax.flatten_util.ravel_pytree(grad_sum)[0].mean()\n",
    "        return reg_loss\n",
    "\n",
    "\n",
    "class GradRegularizer(Regularizer):\n",
    "    \"\"\"\n",
    "    Grad regularizer class.\n",
    "\n",
    "    Regularizing gradient based learning with proportional to the gradient of each \n",
    "    sample.\n",
    "    \"\"\"\n",
    "    def __init__(self, reg_factor) -> None:\n",
    "        super().__init__(reg_factor)    \n",
    "    \n",
    "    def __call__(self, apply_fn, params, batch):\n",
    "        \"\"\"\n",
    "        Call function of the trace regularizer class.\n",
    "\n",
    "        Parameters\n",
    "        ----------\n",
    "        grads : dict\n",
    "                Gradients of the model.\n",
    "\n",
    "        Returns\n",
    "        -------\n",
    "        reg_loss : float\n",
    "                Regularization loss.\n",
    "        \"\"\"\n",
    "\n",
    "        def grad_helper_fn(params):\n",
    "            \"\"\"\n",
    "            helper grad computation\n",
    "\n",
    "            Returns\n",
    "            -------\n",
    "            ntk_trace_values : float, shape=(batch_size,)\n",
    "                    Model predictions, averaged over the output dimension.\n",
    "            \"\"\"\n",
    "            averaged_predictions = apply_fn(params, batch[\"inputs\"]).mean()\n",
    "            return averaged_predictions  \n",
    "\n",
    "        # Compute gradient of shape=(batch_size, n_outputs, params)\n",
    "        grad = jax.grad(grad_helper_fn)(params)\n",
    "        # Compute squared gradient of shape=(batch_size, n_outputs, params)\n",
    "        grad_sum = jax.tree_util.tree_map(lambda x: np.mean(x ** 2), grad)\n",
    "        reg_loss = self.reg_factor * jax.flatten_util.ravel_pytree(grad_sum)[0].mean()\n",
    "        return reg_loss\n",
    "\n",
    "\n",
    "class NormRegularizer(Regularizer):\n",
    "    \"\"\"\n",
    "    Class to regularize on the norm of the parameters.\n",
    "\n",
    "    Regularizing training using the norm of the parameters.\n",
    "    Any function can be used that takes the parameters as input and returns a scalar.\n",
    "    \"\"\"\n",
    "    def __init__(self, reg_factor: float = 1e-2, norm_fn: Optional[Callable] = None) -> None:\n",
    "        \"\"\"\n",
    "        Constructor of the regularizer class.\n",
    "\n",
    "        Parameters\n",
    "        ----------\n",
    "        reg_factor : float\n",
    "                Regularization factor.\n",
    "        norm_fn : Callable\n",
    "                Function to compute the norm of the parameters.\n",
    "        \"\"\"\n",
    "        super().__init__(reg_factor)\n",
    "        self.norm_fn = norm_fn\n",
    "        if self.norm_fn is None:\n",
    "            self.norm_fn = lambda x: np.mean(x ** 2)\n",
    "    \n",
    "    def __call__(self, apply_fn, params, batch):\n",
    "        \"\"\"\n",
    "        Call function of the trace regularizer class.\n",
    "\n",
    "        Parameters\n",
    "        ----------\n",
    "        grads : dict\n",
    "                Gradients of the model.\n",
    "\n",
    "        Returns\n",
    "        -------\n",
    "        reg_loss : float\n",
    "                Regularization loss.\n",
    "        \"\"\"\n",
    "        # Compute squared gradient of shape=(batch_size, n_outputs, params)\n",
    "        param_average = jax.tree_util.tree_map(lambda x: self.norm_fn(x), params)\n",
    "        reg_loss = self.reg_factor * jax.flatten_util.ravel_pytree(param_average)[0].mean()\n",
    "        return reg_loss"
   ]
  },
  {
   "attachments": {},
   "cell_type": "markdown",
   "id": "3547d5aa",
   "metadata": {},
   "source": [
    "# Set up Model"
   ]
  },
  {
   "cell_type": "code",
   "execution_count": 379,
   "id": "af442d14-0791-48cc-a9e8-aa0c5ee9f9c4",
   "metadata": {},
   "outputs": [],
   "source": [
    "data_generator = znnl.data.MNISTGenerator(ds_size=50)"
   ]
  },
  {
   "cell_type": "code",
   "execution_count": 380,
   "id": "11123b2a-b981-4218-98bf-47b0a2bfc271",
   "metadata": {},
   "outputs": [],
   "source": [
    "class Network(nn.Module):\n",
    "    \"\"\"\n",
    "    Simple CNN module.\n",
    "    \"\"\"\n",
    "    @nn.compact\n",
    "    def __call__(self, x):        \n",
    "        x = x.reshape((x.shape[0], -1))  # flatten\n",
    "        \n",
    "        x = nn.Dense(features=128)(x)\n",
    "        x = nn.relu(x)\n",
    "        \n",
    "        x = nn.Dense(features=64)(x)\n",
    "        x = nn.relu(x)\n",
    "        x = nn.Dense(10)(x)\n",
    "        return x"
   ]
  },
  {
   "attachments": {},
   "cell_type": "markdown",
   "id": "634177cd",
   "metadata": {},
   "source": [
    "# Execute training"
   ]
  },
  {
   "cell_type": "code",
   "execution_count": 381,
   "id": "7936f03f-ee9b-46cb-a399-ba916cad09c2",
   "metadata": {},
   "outputs": [],
   "source": [
    "model = znnl.models.FlaxModel(\n",
    "        flax_module=Network(),\n",
    "        optimizer=optax.adam(learning_rate=0.01),\n",
    "        input_shape=(1, 28, 28, 1),\n",
    "        seed=0, \n",
    "    )\n",
    "\n",
    "train_recorder = znnl.training_recording.JaxRecorder(\n",
    "    name=\"train_recorder\",\n",
    "    loss=True,\n",
    "    ntk=True,\n",
    "    entropy= True, \n",
    "    trace=True,\n",
    "    loss_derivative=True,\n",
    "    update_rate=1, \n",
    "    chunk_size=1000\n",
    ")\n",
    "train_recorder.instantiate_recorder(\n",
    "    data_set=data_generator.train_ds\n",
    ")\n",
    "\n",
    "\n",
    "test_recorder = znnl.training_recording.JaxRecorder(\n",
    "    name=\"test_recorder\",\n",
    "    loss=True,\n",
    "    update_rate=1,\n",
    "    chunk_size=1000\n",
    ")\n",
    "test_recorder.instantiate_recorder(\n",
    "    data_set=data_generator.test_ds\n",
    ")"
   ]
  },
  {
   "cell_type": "code",
   "execution_count": 382,
   "id": "05e60cd9",
   "metadata": {},
   "outputs": [],
   "source": [
    "trainer = RegularizedTraining(\n",
    "    model=model, \n",
    "    loss_fn=znnl.loss_functions.CrossEntropyLoss(),\n",
    "    accuracy_fn=znnl.accuracy_functions.LabelAccuracy(), \n",
    "    recorders=[train_recorder, test_recorder],  \n",
    "    regulizer=NormRegularizer(reg_factor=1e1),\n",
    "    # regularization=1e-2, \n",
    "    # # regularization=0.0,\n",
    "    seed=0\n",
    ")"
   ]
  },
  {
   "cell_type": "code",
   "execution_count": 383,
   "id": "da9ecc3f-dab4-4bc6-bd3a-35a3e5b6f855",
   "metadata": {},
   "outputs": [
    {
     "name": "stderr",
     "output_type": "stream",
     "text": [
      "  0%|                                                                    | 0/100 [00:04<?, ?batch/s]\n"
     ]
    },
    {
     "ename": "KeyboardInterrupt",
     "evalue": "",
     "output_type": "error",
     "traceback": [
      "\u001b[0;31m---------------------------------------------------------------------------\u001b[0m",
      "\u001b[0;31mKeyboardInterrupt\u001b[0m                         Traceback (most recent call last)",
      "\u001b[1;32m/tikhome/knikolaou/work/Repositories/ZnRND/examples/trace_regularization.ipynb Cell 16\u001b[0m in \u001b[0;36m<cell line: 1>\u001b[0;34m()\u001b[0m\n\u001b[0;32m----> <a href='vscode-notebook-cell:/tikhome/knikolaou/work/Repositories/ZnRND/examples/trace_regularization.ipynb#X13sZmlsZQ%3D%3D?line=0'>1</a>\u001b[0m batched_training_metrics \u001b[39m=\u001b[39m trainer\u001b[39m.\u001b[39;49mtrain_model(\n\u001b[1;32m      <a href='vscode-notebook-cell:/tikhome/knikolaou/work/Repositories/ZnRND/examples/trace_regularization.ipynb#X13sZmlsZQ%3D%3D?line=1'>2</a>\u001b[0m     train_ds\u001b[39m=\u001b[39;49mdata_generator\u001b[39m.\u001b[39;49mtrain_ds, \n\u001b[1;32m      <a href='vscode-notebook-cell:/tikhome/knikolaou/work/Repositories/ZnRND/examples/trace_regularization.ipynb#X13sZmlsZQ%3D%3D?line=2'>3</a>\u001b[0m     test_ds\u001b[39m=\u001b[39;49mdata_generator\u001b[39m.\u001b[39;49mtest_ds,\n\u001b[1;32m      <a href='vscode-notebook-cell:/tikhome/knikolaou/work/Repositories/ZnRND/examples/trace_regularization.ipynb#X13sZmlsZQ%3D%3D?line=3'>4</a>\u001b[0m     batch_size\u001b[39m=\u001b[39;49m\u001b[39m32\u001b[39;49m,\n\u001b[1;32m      <a href='vscode-notebook-cell:/tikhome/knikolaou/work/Repositories/ZnRND/examples/trace_regularization.ipynb#X13sZmlsZQ%3D%3D?line=4'>5</a>\u001b[0m     epochs\u001b[39m=\u001b[39;49m\u001b[39m100\u001b[39;49m,\n\u001b[1;32m      <a href='vscode-notebook-cell:/tikhome/knikolaou/work/Repositories/ZnRND/examples/trace_regularization.ipynb#X13sZmlsZQ%3D%3D?line=5'>6</a>\u001b[0m )\n",
      "File \u001b[0;32m~/work/Repositories/ZnRND/znnl/training_strategies/training_decorator.py:149\u001b[0m, in \u001b[0;36mtrain_func.<locals>.wrapper\u001b[0;34m(trainer, *args, **kwargs)\u001b[0m\n\u001b[1;32m    145\u001b[0m     \u001b[39mreturn\u001b[39;00m batch_wise_loss\n\u001b[1;32m    147\u001b[0m \u001b[39m# Non-recursive use of train_fn\u001b[39;00m\n\u001b[1;32m    148\u001b[0m \u001b[39melse\u001b[39;00m:\n\u001b[0;32m--> 149\u001b[0m     \u001b[39mreturn\u001b[39;00m train_fn(trainer, \u001b[39m*\u001b[39;49m\u001b[39m*\u001b[39;49mkwargs)\n",
      "File \u001b[0;32m~/work/Repositories/ZnRND/znnl/training_strategies/simple_training.py:372\u001b[0m, in \u001b[0;36mSimpleTraining.train_model\u001b[0;34m(self, train_ds, test_ds, epochs, batch_size, **kwargs)\u001b[0m\n\u001b[1;32m    370\u001b[0m \u001b[39mif\u001b[39;00m \u001b[39mself\u001b[39m\u001b[39m.\u001b[39mrecorders \u001b[39mis\u001b[39;00m \u001b[39mnot\u001b[39;00m \u001b[39mNone\u001b[39;00m:\n\u001b[1;32m    371\u001b[0m     \u001b[39mfor\u001b[39;00m item \u001b[39min\u001b[39;00m \u001b[39mself\u001b[39m\u001b[39m.\u001b[39mrecorders:\n\u001b[0;32m--> 372\u001b[0m         item\u001b[39m.\u001b[39;49mupdate_recorder(epoch\u001b[39m=\u001b[39;49mi, model\u001b[39m=\u001b[39;49m\u001b[39mself\u001b[39;49m\u001b[39m.\u001b[39;49mmodel)\n\u001b[1;32m    374\u001b[0m loading_bar\u001b[39m.\u001b[39mset_description(\u001b[39mf\u001b[39m\u001b[39m\"\u001b[39m\u001b[39mEpoch: \u001b[39m\u001b[39m{\u001b[39;00mi\u001b[39m}\u001b[39;00m\u001b[39m\"\u001b[39m)\n\u001b[1;32m    376\u001b[0m \u001b[39mif\u001b[39;00m \u001b[39misinstance\u001b[39m(\u001b[39mself\u001b[39m\u001b[39m.\u001b[39mmodel\u001b[39m.\u001b[39moptimizer, TraceOptimizer):\n",
      "File \u001b[0;32m~/work/Repositories/ZnRND/znnl/training_recording/jax_recording.py:297\u001b[0m, in \u001b[0;36mJaxRecorder.update_recorder\u001b[0;34m(self, epoch, model)\u001b[0m\n\u001b[1;32m    295\u001b[0m \u001b[39mif\u001b[39;00m \u001b[39mself\u001b[39m\u001b[39m.\u001b[39m_compute_ntk:\n\u001b[1;32m    296\u001b[0m     \u001b[39mtry\u001b[39;00m:\n\u001b[0;32m--> 297\u001b[0m         ntk \u001b[39m=\u001b[39m \u001b[39mself\u001b[39;49m\u001b[39m.\u001b[39;49m_model\u001b[39m.\u001b[39;49mcompute_ntk(\n\u001b[1;32m    298\u001b[0m             \u001b[39mself\u001b[39;49m\u001b[39m.\u001b[39;49m_data_set[\u001b[39m\"\u001b[39;49m\u001b[39minputs\u001b[39;49m\u001b[39m\"\u001b[39;49m], infinite\u001b[39m=\u001b[39;49m\u001b[39mFalse\u001b[39;49;00m\n\u001b[1;32m    299\u001b[0m         )\n\u001b[1;32m    300\u001b[0m         parsed_data[\u001b[39m\"\u001b[39m\u001b[39mntk\u001b[39m\u001b[39m\"\u001b[39m] \u001b[39m=\u001b[39m ntk[\u001b[39m\"\u001b[39m\u001b[39mempirical\u001b[39m\u001b[39m\"\u001b[39m]\n\u001b[1;32m    301\u001b[0m     \u001b[39mexcept\u001b[39;00m \u001b[39mNotImplementedError\u001b[39;00m:\n",
      "File \u001b[0;32m~/work/Repositories/ZnRND/znnl/models/jax_model.py:170\u001b[0m, in \u001b[0;36mJaxModel.compute_ntk\u001b[0;34m(self, x_i, x_j, infinite)\u001b[0m\n\u001b[1;32m    168\u001b[0m \u001b[39mif\u001b[39;00m x_j \u001b[39mis\u001b[39;00m \u001b[39mNone\u001b[39;00m:\n\u001b[1;32m    169\u001b[0m     x_j \u001b[39m=\u001b[39m x_i\n\u001b[0;32m--> 170\u001b[0m empirical_ntk \u001b[39m=\u001b[39m \u001b[39mself\u001b[39;49m\u001b[39m.\u001b[39;49mempirical_ntk_jit(x_i, x_j, \u001b[39mself\u001b[39;49m\u001b[39m.\u001b[39;49mmodel_state\u001b[39m.\u001b[39;49mparams)\n\u001b[1;32m    172\u001b[0m \u001b[39mif\u001b[39;00m infinite:\n\u001b[1;32m    173\u001b[0m     \u001b[39mtry\u001b[39;00m:\n",
      "    \u001b[0;31m[... skipping hidden 1 frame]\u001b[0m\n",
      "File \u001b[0;32m~/miniconda3/envs/jax/lib/python3.10/site-packages/jax/_src/api.py:526\u001b[0m, in \u001b[0;36m_cpp_jit.<locals>.cache_miss\u001b[0;34m(*args, **kwargs)\u001b[0m\n\u001b[1;32m    524\u001b[0m   in_type \u001b[39m=\u001b[39m pe\u001b[39m.\u001b[39minfer_lambda_input_type(\u001b[39mNone\u001b[39;00m, args_flat)\n\u001b[1;32m    525\u001b[0m   flat_fun \u001b[39m=\u001b[39m lu\u001b[39m.\u001b[39mannotate(flat_fun, in_type)\n\u001b[0;32m--> 526\u001b[0m out_flat \u001b[39m=\u001b[39m xla\u001b[39m.\u001b[39;49mxla_call(\n\u001b[1;32m    527\u001b[0m     flat_fun, \u001b[39m*\u001b[39;49margs_flat,\n\u001b[1;32m    528\u001b[0m     device\u001b[39m=\u001b[39;49mdevice, backend\u001b[39m=\u001b[39;49mbackend, name\u001b[39m=\u001b[39;49mflat_fun\u001b[39m.\u001b[39;49m\u001b[39m__name__\u001b[39;49m,\n\u001b[1;32m    529\u001b[0m     donated_invars\u001b[39m=\u001b[39;49mdonated_invars, inline\u001b[39m=\u001b[39;49minline, keep_unused\u001b[39m=\u001b[39;49mkeep_unused)\n\u001b[1;32m    530\u001b[0m out_pytree_def \u001b[39m=\u001b[39m out_tree()\n\u001b[1;32m    531\u001b[0m out \u001b[39m=\u001b[39m tree_unflatten(out_pytree_def, out_flat)\n",
      "File \u001b[0;32m~/miniconda3/envs/jax/lib/python3.10/site-packages/jax/core.py:1919\u001b[0m, in \u001b[0;36mCallPrimitive.bind\u001b[0;34m(self, fun, *args, **params)\u001b[0m\n\u001b[1;32m   1918\u001b[0m \u001b[39mdef\u001b[39;00m \u001b[39mbind\u001b[39m(\u001b[39mself\u001b[39m, fun, \u001b[39m*\u001b[39margs, \u001b[39m*\u001b[39m\u001b[39m*\u001b[39mparams):\n\u001b[0;32m-> 1919\u001b[0m   \u001b[39mreturn\u001b[39;00m call_bind(\u001b[39mself\u001b[39;49m, fun, \u001b[39m*\u001b[39;49margs, \u001b[39m*\u001b[39;49m\u001b[39m*\u001b[39;49mparams)\n",
      "File \u001b[0;32m~/miniconda3/envs/jax/lib/python3.10/site-packages/jax/core.py:1935\u001b[0m, in \u001b[0;36mcall_bind\u001b[0;34m(primitive, fun, *args, **params)\u001b[0m\n\u001b[1;32m   1933\u001b[0m tracers \u001b[39m=\u001b[39m \u001b[39mmap\u001b[39m(top_trace\u001b[39m.\u001b[39mfull_raise, args)\n\u001b[1;32m   1934\u001b[0m fun_ \u001b[39m=\u001b[39m lu\u001b[39m.\u001b[39mannotate(fun_, fun\u001b[39m.\u001b[39min_type)\n\u001b[0;32m-> 1935\u001b[0m outs \u001b[39m=\u001b[39m top_trace\u001b[39m.\u001b[39;49mprocess_call(primitive, fun_, tracers, params)\n\u001b[1;32m   1936\u001b[0m \u001b[39mreturn\u001b[39;00m \u001b[39mmap\u001b[39m(full_lower, apply_todos(env_trace_todo(), outs))\n",
      "File \u001b[0;32m~/miniconda3/envs/jax/lib/python3.10/site-packages/jax/core.py:687\u001b[0m, in \u001b[0;36mEvalTrace.process_call\u001b[0;34m(self, primitive, f, tracers, params)\u001b[0m\n\u001b[1;32m    686\u001b[0m \u001b[39mdef\u001b[39;00m \u001b[39mprocess_call\u001b[39m(\u001b[39mself\u001b[39m, primitive, f, tracers, params):\n\u001b[0;32m--> 687\u001b[0m   \u001b[39mreturn\u001b[39;00m primitive\u001b[39m.\u001b[39;49mimpl(f, \u001b[39m*\u001b[39;49mtracers, \u001b[39m*\u001b[39;49m\u001b[39m*\u001b[39;49mparams)\n",
      "File \u001b[0;32m~/miniconda3/envs/jax/lib/python3.10/site-packages/jax/_src/dispatch.py:199\u001b[0m, in \u001b[0;36m_xla_call_impl\u001b[0;34m(***failed resolving arguments***)\u001b[0m\n\u001b[1;32m    197\u001b[0m \u001b[39melse\u001b[39;00m:\n\u001b[1;32m    198\u001b[0m   arg_specs \u001b[39m=\u001b[39m [(\u001b[39mNone\u001b[39;00m, \u001b[39mgetattr\u001b[39m(x, \u001b[39m'\u001b[39m\u001b[39m_device\u001b[39m\u001b[39m'\u001b[39m, \u001b[39mNone\u001b[39;00m)) \u001b[39mfor\u001b[39;00m x \u001b[39min\u001b[39;00m args]\n\u001b[0;32m--> 199\u001b[0m compiled_fun \u001b[39m=\u001b[39m xla_callable(fun, device, backend, name, donated_invars,\n\u001b[1;32m    200\u001b[0m                             keep_unused, \u001b[39m*\u001b[39;49marg_specs)\n\u001b[1;32m    201\u001b[0m \u001b[39mtry\u001b[39;00m:\n\u001b[1;32m    202\u001b[0m   \u001b[39mreturn\u001b[39;00m compiled_fun(\u001b[39m*\u001b[39margs)\n",
      "File \u001b[0;32m~/miniconda3/envs/jax/lib/python3.10/site-packages/jax/linear_util.py:295\u001b[0m, in \u001b[0;36mcache.<locals>.memoized_fun\u001b[0;34m(fun, *args)\u001b[0m\n\u001b[1;32m    293\u001b[0m   fun\u001b[39m.\u001b[39mpopulate_stores(stores)\n\u001b[1;32m    294\u001b[0m \u001b[39melse\u001b[39;00m:\n\u001b[0;32m--> 295\u001b[0m   ans \u001b[39m=\u001b[39m call(fun, \u001b[39m*\u001b[39;49margs)\n\u001b[1;32m    296\u001b[0m   cache[key] \u001b[39m=\u001b[39m (ans, fun\u001b[39m.\u001b[39mstores)\n\u001b[1;32m    298\u001b[0m thread_local\u001b[39m.\u001b[39mmost_recent_entry \u001b[39m=\u001b[39m weakref\u001b[39m.\u001b[39mref(ans)\n",
      "File \u001b[0;32m~/miniconda3/envs/jax/lib/python3.10/site-packages/jax/_src/dispatch.py:249\u001b[0m, in \u001b[0;36m_xla_callable_uncached\u001b[0;34m(fun, device, backend, name, donated_invars, keep_unused, *arg_specs)\u001b[0m\n\u001b[1;32m    246\u001b[0m \u001b[39mdef\u001b[39;00m \u001b[39m_xla_callable_uncached\u001b[39m(fun: lu\u001b[39m.\u001b[39mWrappedFun, device, backend, name,\n\u001b[1;32m    247\u001b[0m                            donated_invars, keep_unused, \u001b[39m*\u001b[39marg_specs):\n\u001b[1;32m    248\u001b[0m   \u001b[39mreturn\u001b[39;00m lower_xla_callable(fun, device, backend, name, donated_invars, \u001b[39mFalse\u001b[39;49;00m,\n\u001b[0;32m--> 249\u001b[0m                             keep_unused, \u001b[39m*\u001b[39;49marg_specs)\u001b[39m.\u001b[39;49mcompile()\u001b[39m.\u001b[39munsafe_call\n",
      "File \u001b[0;32m~/miniconda3/envs/jax/lib/python3.10/site-packages/jax/_src/dispatch.py:827\u001b[0m, in \u001b[0;36mXlaComputation.compile\u001b[0;34m(self)\u001b[0m\n\u001b[1;32m    824\u001b[0m     \u001b[39mself\u001b[39m\u001b[39m.\u001b[39m_executable \u001b[39m=\u001b[39m XlaCompiledComputation\u001b[39m.\u001b[39mfrom_trivial_jaxpr(\n\u001b[1;32m    825\u001b[0m         \u001b[39m*\u001b[39m\u001b[39m*\u001b[39m\u001b[39mself\u001b[39m\u001b[39m.\u001b[39mcompile_args)\n\u001b[1;32m    826\u001b[0m   \u001b[39melse\u001b[39;00m:\n\u001b[0;32m--> 827\u001b[0m     \u001b[39mself\u001b[39m\u001b[39m.\u001b[39m_executable \u001b[39m=\u001b[39m XlaCompiledComputation\u001b[39m.\u001b[39;49mfrom_xla_computation(\n\u001b[1;32m    828\u001b[0m         \u001b[39mself\u001b[39;49m\u001b[39m.\u001b[39;49mname, \u001b[39mself\u001b[39;49m\u001b[39m.\u001b[39;49m_hlo, \u001b[39mself\u001b[39;49m\u001b[39m.\u001b[39;49m_in_type, \u001b[39mself\u001b[39;49m\u001b[39m.\u001b[39;49m_out_type,\n\u001b[1;32m    829\u001b[0m         \u001b[39m*\u001b[39;49m\u001b[39m*\u001b[39;49m\u001b[39mself\u001b[39;49m\u001b[39m.\u001b[39;49mcompile_args)\n\u001b[1;32m    831\u001b[0m \u001b[39mreturn\u001b[39;00m \u001b[39mself\u001b[39m\u001b[39m.\u001b[39m_executable\n",
      "File \u001b[0;32m~/miniconda3/envs/jax/lib/python3.10/site-packages/jax/_src/dispatch.py:934\u001b[0m, in \u001b[0;36mXlaCompiledComputation.from_xla_computation\u001b[0;34m(name, xla_computation, in_type, out_type, nreps, device, backend, tuple_args, in_avals, out_avals, has_unordered_effects, ordered_effects, kept_var_idx, keepalive, host_callbacks)\u001b[0m\n\u001b[1;32m    931\u001b[0m options\u001b[39m.\u001b[39mparameter_is_tupled_arguments \u001b[39m=\u001b[39m tuple_args\n\u001b[1;32m    932\u001b[0m \u001b[39mwith\u001b[39;00m log_elapsed_time(\u001b[39mf\u001b[39m\u001b[39m\"\u001b[39m\u001b[39mFinished XLA compilation of \u001b[39m\u001b[39m{\u001b[39;00mname\u001b[39m}\u001b[39;00m\u001b[39m \u001b[39m\u001b[39m\"\u001b[39m\n\u001b[1;32m    933\u001b[0m                       \u001b[39m\"\u001b[39m\u001b[39min \u001b[39m\u001b[39m{elapsed_time}\u001b[39;00m\u001b[39m sec\u001b[39m\u001b[39m\"\u001b[39m):\n\u001b[0;32m--> 934\u001b[0m   compiled \u001b[39m=\u001b[39m compile_or_get_cached(backend, xla_computation, options,\n\u001b[1;32m    935\u001b[0m                                    host_callbacks)\n\u001b[1;32m    936\u001b[0m buffer_counts \u001b[39m=\u001b[39m [aval_to_num_buffers(aval) \u001b[39mfor\u001b[39;00m aval \u001b[39min\u001b[39;00m out_avals]\n\u001b[1;32m    937\u001b[0m \u001b[39mif\u001b[39;00m ordered_effects \u001b[39mor\u001b[39;00m has_unordered_effects:\n",
      "File \u001b[0;32m~/miniconda3/envs/jax/lib/python3.10/site-packages/jax/_src/dispatch.py:899\u001b[0m, in \u001b[0;36mcompile_or_get_cached\u001b[0;34m(backend, computation, compile_options, host_callbacks)\u001b[0m\n\u001b[1;32m    897\u001b[0m     ir_str \u001b[39m=\u001b[39m computation\n\u001b[1;32m    898\u001b[0m   _dump_ir_to_file(module_name, ir_str)\n\u001b[0;32m--> 899\u001b[0m \u001b[39mreturn\u001b[39;00m backend_compile(backend, computation, compile_options, host_callbacks)\n",
      "File \u001b[0;32m~/miniconda3/envs/jax/lib/python3.10/site-packages/jax/_src/profiler.py:294\u001b[0m, in \u001b[0;36mannotate_function.<locals>.wrapper\u001b[0;34m(*args, **kwargs)\u001b[0m\n\u001b[1;32m    291\u001b[0m \u001b[39m@wraps\u001b[39m(func)\n\u001b[1;32m    292\u001b[0m \u001b[39mdef\u001b[39;00m \u001b[39mwrapper\u001b[39m(\u001b[39m*\u001b[39margs, \u001b[39m*\u001b[39m\u001b[39m*\u001b[39mkwargs):\n\u001b[1;32m    293\u001b[0m   \u001b[39mwith\u001b[39;00m TraceAnnotation(name, \u001b[39m*\u001b[39m\u001b[39m*\u001b[39mdecorator_kwargs):\n\u001b[0;32m--> 294\u001b[0m     \u001b[39mreturn\u001b[39;00m func(\u001b[39m*\u001b[39;49margs, \u001b[39m*\u001b[39;49m\u001b[39m*\u001b[39;49mkwargs)\n\u001b[1;32m    295\u001b[0m   \u001b[39mreturn\u001b[39;00m wrapper\n",
      "File \u001b[0;32m~/miniconda3/envs/jax/lib/python3.10/site-packages/jax/_src/dispatch.py:843\u001b[0m, in \u001b[0;36mbackend_compile\u001b[0;34m(backend, built_c, options, host_callbacks)\u001b[0m\n\u001b[1;32m    838\u001b[0m   \u001b[39mreturn\u001b[39;00m backend\u001b[39m.\u001b[39mcompile(built_c, compile_options\u001b[39m=\u001b[39moptions,\n\u001b[1;32m    839\u001b[0m                          host_callbacks\u001b[39m=\u001b[39mhost_callbacks)\n\u001b[1;32m    840\u001b[0m \u001b[39m# Some backends don't have `host_callbacks` option yet\u001b[39;00m\n\u001b[1;32m    841\u001b[0m \u001b[39m# TODO(sharadmv): remove this fallback when all backends allow `compile`\u001b[39;00m\n\u001b[1;32m    842\u001b[0m \u001b[39m# to take in `host_callbacks`\u001b[39;00m\n\u001b[0;32m--> 843\u001b[0m \u001b[39mreturn\u001b[39;00m backend\u001b[39m.\u001b[39;49mcompile(built_c, compile_options\u001b[39m=\u001b[39;49moptions)\n",
      "\u001b[0;31mKeyboardInterrupt\u001b[0m: "
     ]
    }
   ],
   "source": [
    "batched_training_metrics = trainer.train_model(\n",
    "    train_ds=data_generator.train_ds, \n",
    "    test_ds=data_generator.test_ds,\n",
    "    batch_size=32,\n",
    "    epochs=100,\n",
    ")"
   ]
  },
  {
   "cell_type": "code",
   "execution_count": 373,
   "id": "4af69dd9",
   "metadata": {},
   "outputs": [],
   "source": [
    "train_report = train_recorder.gather_recording()\n",
    "test_report = test_recorder.gather_recording()"
   ]
  },
  {
   "cell_type": "code",
   "execution_count": 374,
   "id": "e0d7d0fc",
   "metadata": {},
   "outputs": [
    {
     "data": {
      "image/png": "[encoded data removed]",
      "text/plain": [
       "<Figure size 432x288 with 1 Axes>"
      ]
     },
     "metadata": {
      "needs_background": "light"
     },
     "output_type": "display_data"
    }
   ],
   "source": [
    "plt.plot(train_report.loss, 'o', mfc='None', label=\"Train\")\n",
    "plt.plot(test_report.loss, 'o', mfc='None', label=\"Test\")\n",
    "\n",
    "plt.xlabel(\"Epoch\")\n",
    "plt.ylabel(\"Loss\")\n",
    "plt.yscale(\"log\")\n",
    "plt.legend()\n",
    "plt.show()"
   ]
  },
  {
   "cell_type": "code",
   "execution_count": 375,
   "id": "a6fd3a3c",
   "metadata": {},
   "outputs": [
    {
     "data": {
      "image/png": "[encoded data removed]",
      "text/plain": [
       "<Figure size 432x288 with 1 Axes>"
      ]
     },
     "metadata": {
      "needs_background": "light"
     },
     "output_type": "display_data"
    }
   ],
   "source": [
    "plt.plot(train_report.entropy, 'o', mfc='None', label=\"Entropy\")\n",
    "plt.xlabel(\"Epoch\")\n",
    "plt.ylabel(\"Entropy\")\n",
    "plt.legend()\n",
    "plt.show()"
   ]
  },
  {
   "cell_type": "code",
   "execution_count": 376,
   "id": "f8eea5f3",
   "metadata": {},
   "outputs": [
    {
     "data": {
      "image/png": "[encoded data removed]",
      "text/plain": [
       "<Figure size 432x288 with 1 Axes>"
      ]
     },
     "metadata": {
      "needs_background": "light"
     },
     "output_type": "display_data"
    }
   ],
   "source": [
    "plt.plot(train_report.trace, 'o', mfc='None', label=\"Trace\")\n",
    "plt.xlabel(\"Epoch\")\n",
    "plt.ylabel(\"Trace\")\n",
    "plt.legend()\n",
    "plt.show()"
   ]
  },
  {
   "cell_type": "markdown",
   "id": "fc36c5d2",
   "metadata": {},
   "source": [
    "# Perform quick study"
   ]
  },
  {
   "cell_type": "code",
   "execution_count": 384,
   "id": "1e35c600",
   "metadata": {},
   "outputs": [],
   "source": [
    "def perform_quick_study(regularizer: Regularizer):\n",
    "\n",
    "    model = znnl.models.FlaxModel(\n",
    "        flax_module=Network(),\n",
    "        optimizer=optax.adam(learning_rate=0.01),\n",
    "        input_shape=(1, 28, 28, 1),\n",
    "        seed=0, \n",
    "    )\n",
    "\n",
    "    train_recorder = znnl.training_recording.JaxRecorder(\n",
    "        name=\"train_recorder\",\n",
    "        loss=True,\n",
    "        ntk=True,\n",
    "        entropy= True, \n",
    "        trace=True,\n",
    "        loss_derivative=True,\n",
    "        update_rate=1, \n",
    "        chunk_size=1000\n",
    "    )\n",
    "    train_recorder.instantiate_recorder(\n",
    "        data_set=data_generator.train_ds\n",
    "    )\n",
    "\n",
    "\n",
    "    test_recorder = znnl.training_recording.JaxRecorder(\n",
    "        name=\"test_recorder\",\n",
    "        loss=True,\n",
    "        update_rate=1,\n",
    "        chunk_size=1000\n",
    "    )\n",
    "    test_recorder.instantiate_recorder(\n",
    "        data_set=data_generator.test_ds\n",
    "    )\n",
    "\n",
    "    trainer = RegularizedTraining(\n",
    "        model=model, \n",
    "        loss_fn=znnl.loss_functions.CrossEntropyLoss(),\n",
    "        accuracy_fn=znnl.accuracy_functions.LabelAccuracy(), \n",
    "        recorders=[train_recorder, test_recorder],  \n",
    "        regulizer=regularizer, \n",
    "        seed=0\n",
    "    )\n",
    "\n",
    "    batched_training_metrics = trainer.train_model(\n",
    "        train_ds=data_generator.train_ds, \n",
    "        test_ds=data_generator.test_ds,\n",
    "        batch_size=32,\n",
    "        epochs=100,\n",
    "    )\n",
    "\n",
    "    train_report = train_recorder.gather_recording()\n",
    "    test_report = test_recorder.gather_recording()\n",
    "\n",
    "    return train_report, test_report"
   ]
  },
  {
   "cell_type": "code",
   "execution_count": 385,
   "id": "d1ecc3d3",
   "metadata": {},
   "outputs": [
    {
     "name": "stderr",
     "output_type": "stream",
     "text": [
      "Epoch: 100: 100%|███████████████████████████████| 100/100 [00:21<00:00,  4.62batch/s, accuracy=0.62]\n",
      "Epoch: 100: 100%|███████████████████████████████| 100/100 [00:22<00:00,  4.45batch/s, accuracy=0.58]\n",
      "Epoch: 100: 100%|███████████████████████████████| 100/100 [01:14<00:00,  1.34batch/s, accuracy=0.58]\n"
     ]
    }
   ],
   "source": [
    "# Execute a quick study\n",
    "regularizers = [\n",
    "    NormRegularizer(reg_factor=1e1),\n",
    "    GradRegularizer(reg_factor=1e-2),\n",
    "    TraceRegularizer(reg_factor=1e-3),\n",
    "]\n",
    "train_report_norm, test_report_norm = perform_quick_study(regularizers[0])\n",
    "train_report_grad, test_report_grad = perform_quick_study(regularizers[1])\n",
    "train_report_trace, test_report_trace = perform_quick_study(regularizers[2])"
   ]
  },
  {
   "cell_type": "code",
   "execution_count": 386,
   "id": "30b386b2",
   "metadata": {},
   "outputs": [
    {
     "data": {
      "image/png": "[encoded data removed]",
      "text/plain": [
       "<Figure size 1080x360 with 3 Axes>"
      ]
     },
     "metadata": {
      "needs_background": "light"
     },
     "output_type": "display_data"
    }
   ],
   "source": [
    "fig, axs = plt.subplots(1, 3, figsize=(15, 5), tight_layout=True)\n",
    "\n",
    "axs[0].plot(train_report_norm.loss, 'o', mfc='None', label=\"Train Norm\")\n",
    "axs[0].plot(train_report_grad.loss, 'o', mfc='None', label=\"Train Grad\")\n",
    "axs[0].plot(train_report_trace.loss, 'o', mfc='None', label=\"Train Trace\")\n",
    "\n",
    "axs[0].plot(test_report_norm.loss, '-', mfc='None', label=\"Test Norm\")\n",
    "axs[0].plot(test_report_grad.loss, '-', mfc='None', label=\"Test Grad\")\n",
    "axs[0].plot(test_report_trace.loss, '-', mfc='None', label=\"Test Trace\")\n",
    "\n",
    "axs[0].set_xlabel(\"Epoch\")\n",
    "axs[0].set_ylabel(\"Loss\")\n",
    "axs[0].set_yscale(\"log\")\n",
    "\n",
    "axs[1].plot(train_report_norm.entropy, 'o', mfc='None', label=\"Norm\")\n",
    "axs[1].plot(train_report_grad.entropy, 'o', mfc='None', label=\"Grad\")\n",
    "axs[1].plot(train_report_trace.entropy, 'o', mfc='None', label=\"Trace\")\n",
    "axs[1].set_xlabel(\"Epoch\")\n",
    "axs[1].set_ylabel(\"Entropy\")\n",
    "\n",
    "axs[2].plot(train_report_norm.trace, 'o', mfc='None', label=\"Norm\")\n",
    "axs[2].plot(train_report_grad.trace, 'o', mfc='None', label=\"Grad\")\n",
    "axs[2].plot(train_report_trace.trace, 'o', mfc='None', label=\"Trace\")\n",
    "axs[2].set_xlabel(\"Epoch\")\n",
    "axs[2].set_ylabel(\"Trace\")\n",
    "\n",
    "plt.legend()\n",
    "plt.show()\n"
   ]
  },
  {
   "cell_type": "code",
   "execution_count": null,
   "id": "3b5c46e7",
   "metadata": {},
   "outputs": [],
   "source": []
  }
 ],
 "metadata": {
  "kernelspec": {
   "display_name": "jax",
   "language": "python",
   "name": "python3"
  },
  "language_info": {
   "codemirror_mode": {
    "name": "ipython",
    "version": 3
   },
   "file_extension": ".py",
   "mimetype": "text/x-python",
   "name": "python",
   "nbconvert_exporter": "python",
   "pygments_lexer": "ipython3",
   "version": "3.10.4"
  }
 },
 "nbformat": 4,
 "nbformat_minor": 5
}
