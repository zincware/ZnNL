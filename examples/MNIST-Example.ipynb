{
 "cells": [
  {
   "cell_type": "markdown",
   "id": "2c522a05",
   "metadata": {},
   "source": [
    "# MNIST meets RND\n",
    "\n",
    "In this tutorial, we go over how to apply random network distillation to non-standard network architectures, specifically, the convoltutional neural networks required to classify the MNIST dataset."
   ]
  },
  {
   "cell_type": "code",
   "execution_count": null,
   "id": "f4f62b3c",
   "metadata": {},
   "outputs": [],
   "source": [
    "import os\n",
    "os.environ[\"CUDA_VISIBLE_DEVICES\"] = \"-1\"\n",
    "\n",
    "\n",
    "import znrnd as rnd\n",
    "\n",
    "import tensorflow_datasets as tfds\n",
    "\n",
    "import numpy as np\n",
    "from flax import linen as nn\n",
    "import optax\n",
    "\n",
    "from jax.lib import xla_bridge\n",
    "\n",
    "print(f\"Using: {xla_bridge.get_backend().platform}\")"
   ]
  },
  {
   "cell_type": "markdown",
   "id": "aad7b959",
   "metadata": {},
   "source": [
    "### Making a data generator\n",
    "\n",
    "The first thing we need to do is create a data generator for the problem."
   ]
  },
  {
   "cell_type": "code",
   "execution_count": null,
   "id": "c8029770",
   "metadata": {},
   "outputs": [],
   "source": [
    "data_generator = rnd.data.MNISTGenerator()"
   ]
  },
  {
   "cell_type": "markdown",
   "id": "8a967968",
   "metadata": {},
   "source": [
    "### Define the agent"
   ]
  },
  {
   "cell_type": "code",
   "execution_count": null,
   "id": "772667ec",
   "metadata": {},
   "outputs": [],
   "source": [
    "class CustomModule(nn.Module):\n",
    "    \"\"\"\n",
    "    Simple CNN module.\n",
    "    \"\"\"\n",
    "    @nn.compact\n",
    "    def __call__(self, x):\n",
    "        x = nn.Conv(features=32, kernel_size=(3, 3))(x)\n",
    "        x = nn.relu(x)\n",
    "        x = nn.avg_pool(x, window_shape=(2, 2), strides=(2, 2))\n",
    "        x = nn.Conv(features=64, kernel_size=(3, 3))(x)\n",
    "        x = nn.relu(x)\n",
    "        x = nn.avg_pool(x, window_shape=(2, 2), strides=(2, 2))\n",
    "        x = x.reshape((x.shape[0], -1))  # flatten\n",
    "        x = nn.Dense(features=256)(x)\n",
    "        return x"
   ]
  },
  {
   "cell_type": "code",
   "execution_count": null,
   "id": "ed479cfc",
   "metadata": {},
   "outputs": [],
   "source": [
    "class ProductionModule(nn.Module):\n",
    "    \"\"\"\n",
    "    Simple CNN module.\n",
    "    \"\"\"\n",
    "\n",
    "    @nn.compact\n",
    "    def __call__(self, x):\n",
    "        x = nn.Conv(features=128, kernel_size=(3, 3))(x)\n",
    "        x = nn.relu(x)\n",
    "        x = nn.max_pool(x, window_shape=(3, 3), strides=(2, 2))\n",
    "        x = nn.Conv(features=128, kernel_size=(3, 3))(x)\n",
    "        x = nn.relu(x)\n",
    "        x = nn.max_pool(x, window_shape=(3, 3), strides=(2, 2))\n",
    "        x = x.reshape((x.shape[0], -1))  # flatten\n",
    "        x = nn.Dense(features=300)(x)\n",
    "        x = nn.relu(x)\n",
    "        x = nn.Dense(10)(x)\n",
    "\n",
    "        return x"
   ]
  },
  {
   "cell_type": "code",
   "execution_count": null,
   "id": "2868daf4",
   "metadata": {},
   "outputs": [],
   "source": [
    "production_model = rnd.models.FlaxModel(\n",
    "            flax_module=ProductionModule(),\n",
    "            optimizer=optax.adam(learning_rate=0.01),\n",
    "            loss_fn=rnd.loss_functions.CrossEntropyLoss(),\n",
    "            input_shape=(1, 28, 28, 1),\n",
    "            training_threshold=0.001,\n",
    "            accuracy_fn=rnd.accuracy_functions.LabelAccuracy()\n",
    "        )"
   ]
  },
  {
   "cell_type": "code",
   "execution_count": null,
   "id": "2ec38476",
   "metadata": {},
   "outputs": [],
   "source": [
    "_ = production_model.train_model(\n",
    "    train_ds={\"inputs\": data_generator.train_ds[\"inputs\"], \"targets\": data_generator.train_ds[\"targets\"]},\n",
    "    test_ds={\"inputs\": data_generator.test_ds[\"inputs\"], \"targets\": data_generator.test_ds[\"targets\"]},\n",
    "    batch_size=32,\n",
    ")"
   ]
  },
  {
   "cell_type": "code",
   "execution_count": null,
   "id": "622300c1",
   "metadata": {},
   "outputs": [],
   "source": [
    "target = rnd.models.FlaxModel(\n",
    "        flax_module=CustomModule(),\n",
    "        optimizer=optax.adam(learning_rate=0.001),\n",
    "        loss_fn=rnd.loss_functions.MeanPowerLoss(order=2),\n",
    "        input_shape=(1, 28, 28, 1),\n",
    "        training_threshold=0.001\n",
    "    )\n",
    "\n",
    "predictor = rnd.models.FlaxModel(\n",
    "        flax_module=CustomModule(),\n",
    "        optimizer=optax.adam(learning_rate=0.001),\n",
    "        loss_fn=rnd.loss_functions.MeanPowerLoss(order=2),\n",
    "        input_shape=(1, 28, 28, 1),\n",
    "        training_threshold=0.001\n",
    "    )"
   ]
  },
  {
   "cell_type": "code",
   "execution_count": null,
   "id": "37801fbc",
   "metadata": {},
   "outputs": [],
   "source": [
    "agent = rnd.agents.RND(\n",
    "        point_selector=rnd.point_selection.GreedySelection(threshold=0.01),\n",
    "        distance_metric=rnd.distance_metrics.OrderNDifference(order=2),\n",
    "        data_generator=data_generator,\n",
    "        target_network=target,\n",
    "        predictor_network=predictor,\n",
    "        tolerance=8,\n",
    "    )"
   ]
  },
  {
   "cell_type": "code",
   "execution_count": null,
   "id": "39439c0b",
   "metadata": {},
   "outputs": [],
   "source": [
    "ds = agent.build_dataset(target_size=5, visualize=True)"
   ]
  },
  {
   "cell_type": "code",
   "execution_count": null,
   "id": "86ff87ef",
   "metadata": {},
   "outputs": [],
   "source": [
    "data_generator.plot_image(data_list=np.array(agent.target_set))"
   ]
  },
  {
   "cell_type": "code",
   "execution_count": null,
   "id": "0ac60562-0c92-4d74-b0e3-ce2d9230b4f0",
   "metadata": {},
   "outputs": [],
   "source": []
  }
 ],
 "metadata": {
  "kernelspec": {
   "display_name": "Python 3 (ipykernel)",
   "language": "python",
   "name": "python3"
  },
  "language_info": {
   "codemirror_mode": {
    "name": "ipython",
    "version": 3
   },
   "file_extension": ".py",
   "mimetype": "text/x-python",
   "name": "python",
   "nbconvert_exporter": "python",
   "pygments_lexer": "ipython3",
   "version": "3.10.6"
  }
 },
 "nbformat": 4,
 "nbformat_minor": 5
}
