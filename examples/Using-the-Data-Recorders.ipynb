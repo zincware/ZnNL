{
 "cells": [
  {
   "cell_type": "markdown",
   "id": "2c522a05",
   "metadata": {},
   "source": [
    "# Using Data Recorders\n",
    "\n",
    "As ZnRND is at its core a package for scientific development, it comes with a powerfull data recording module which is demonstrated here."
   ]
  },
  {
   "cell_type": "code",
   "execution_count": null,
   "id": "f4f62b3c",
   "metadata": {},
   "outputs": [],
   "source": [
    "import os\n",
    "os.environ[\"CUDA_VISIBLE_DEVICES\"] = \"-1\"\n",
    "\n",
    "\n",
    "import znrnd as rnd\n",
    "import numpy as np\n",
    "\n",
    "import matplotlib.pyplot as plt\n",
    "\n",
    "from neural_tangents import stax\n",
    "import optax"
   ]
  },
  {
   "cell_type": "markdown",
   "id": "aad7b959",
   "metadata": {},
   "source": [
    "## Create a Data Generator\n",
    "\n",
    "The first thing we need to do is create a data generator for the problem."
   ]
  },
  {
   "cell_type": "code",
   "execution_count": 2,
   "id": "c8029770",
   "metadata": {},
   "outputs": [
    {
     "name": "stderr",
     "output_type": "stream",
     "text": [
      "2023-01-03 16:58:22.242425: E tensorflow/stream_executor/cuda/cuda_driver.cc:265] failed call to cuInit: CUDA_ERROR_NO_DEVICE: no CUDA-capable device is detected\n"
     ]
    }
   ],
   "source": [
    "data_generator = rnd.data.MNISTGenerator()"
   ]
  },
  {
   "cell_type": "markdown",
   "id": "8a967968",
   "metadata": {},
   "source": [
    "## Define the Network"
   ]
  },
  {
   "cell_type": "code",
   "execution_count": 3,
   "id": "772667ec",
   "metadata": {},
   "outputs": [],
   "source": [
    "network = stax.serial(\n",
    "    stax.Flatten(),\n",
    "    stax.Dense(128),\n",
    "    stax.Relu(),\n",
    "    stax.Dense(10)\n",
    ")"
   ]
  },
  {
   "cell_type": "markdown",
   "id": "107d0c5c",
   "metadata": {},
   "source": [
    "## Define the Data Recorders\n",
    "\n",
    "In this case I want to track test and train data but at different intervals."
   ]
  },
  {
   "cell_type": "code",
   "execution_count": 4,
   "id": "9135b7ff",
   "metadata": {},
   "outputs": [],
   "source": [
    "train_recorder = rnd.model_recording.JaxRecorder(\n",
    "    loss=True,\n",
    "    accuracy=True,\n",
    "    update_rate=1\n",
    ")\n",
    "test_recorder = rnd.model_recording.JaxRecorder(\n",
    "    loss=True,\n",
    "    accuracy=True,\n",
    "    update_rate=10\n",
    ")"
   ]
  },
  {
   "cell_type": "markdown",
   "id": "bb586f6a",
   "metadata": {},
   "source": [
    "## Create Model and Prepare Recording\n",
    "\n",
    "Before we train, we need to create a model and prepare the recorders. In this time, we add data and a model to the recorders. Note, any data can be added to the recorders here, even validation data."
   ]
  },
  {
   "cell_type": "code",
   "execution_count": 5,
   "id": "2868daf4",
   "metadata": {},
   "outputs": [],
   "source": [
    "production_model = rnd.models.NTModel(\n",
    "            nt_module=network,\n",
    "            optimizer=optax.adam(learning_rate=0.01),\n",
    "            loss_fn=rnd.loss_functions.CrossEntropyLoss(),\n",
    "            input_shape=(1, 28, 28, 1),\n",
    "            accuracy_fn=rnd.accuracy_functions.LabelAccuracy(),\n",
    "        )"
   ]
  },
  {
   "cell_type": "code",
   "execution_count": 6,
   "id": "eebca8d4",
   "metadata": {},
   "outputs": [],
   "source": [
    "train_recorder.instantiate_recorder(\n",
    "    data_length=100, data_set=data_generator.train_ds\n",
    ")\n",
    "test_recorder.instantiate_recorder(\n",
    "    data_length=10, data_set=data_generator.test_ds\n",
    ")"
   ]
  },
  {
   "cell_type": "code",
   "execution_count": 7,
   "id": "2ec38476",
   "metadata": {},
   "outputs": [
    {
     "name": "stderr",
     "output_type": "stream",
     "text": [
      "Epoch: 100: 100%|██████████████████████████████| 100/100 [00:57<00:00,  1.74batch/s, accuracy=0.896]\n"
     ]
    }
   ],
   "source": [
    "batch_wise_loss = production_model.train_model(\n",
    "    train_ds=data_generator.train_ds,\n",
    "    test_ds=data_generator.test_ds,\n",
    "    batch_size=32,\n",
    "    recorders=[train_recorder, test_recorder],\n",
    "    epochs=100\n",
    ")"
   ]
  },
  {
   "cell_type": "markdown",
   "id": "4b72948a",
   "metadata": {},
   "source": [
    "## Checking the Results\n",
    "\n",
    "Now let's use the export function of the reporter to get access to an easy to plot dataclass with all of the metrics we recorded."
   ]
  },
  {
   "cell_type": "code",
   "execution_count": 8,
   "id": "d6af0173",
   "metadata": {},
   "outputs": [],
   "source": [
    "train_report = train_recorder.export_dataset()\n",
    "test_report = test_recorder.export_dataset()"
   ]
  },
  {
   "cell_type": "code",
   "execution_count": 16,
   "id": "b2379642",
   "metadata": {},
   "outputs": [
    {
     "data": {
      "text/plain": [
       "[<matplotlib.lines.Line2D at 0x7f93c129f070>]"
      ]
     },
     "execution_count": 16,
     "metadata": {},
     "output_type": "execute_result"
    },
    {
     "data": {
      "image/png": "[encoded data removed]",
      "text/plain": [
       "<Figure size 432x288 with 1 Axes>"
      ]
     },
     "metadata": {
      "needs_background": "light"
     },
     "output_type": "display_data"
    }
   ],
   "source": [
    "plt.plot(train_report.loss, 'o', mfc='None', label=\"Train\")\n",
    "plt.plot(np.linspace(0, 100, 10), test_report.loss, '.', mfc=\"None\", label=\"Test\")\n",
    "plt.xlabel(\"Epoch\")\n",
    "plt.ylabel(\"Loss\")\n",
    "plt.show()"
   ]
  },
  {
   "cell_type": "code",
   "execution_count": 17,
   "id": "be72c4e9",
   "metadata": {},
   "outputs": [
    {
     "data": {
      "text/plain": [
       "[<matplotlib.lines.Line2D at 0x7f93c1c7c940>]"
      ]
     },
     "execution_count": 17,
     "metadata": {},
     "output_type": "execute_result"
    },
    {
     "data": {
      "image/png": "[encoded data removed]",
      "text/plain": [
       "<Figure size 432x288 with 1 Axes>"
      ]
     },
     "metadata": {
      "needs_background": "light"
     },
     "output_type": "display_data"
    }
   ],
   "source": [
    "plt.plot(train_report.accuracy, 'o', mfc='None', label=\"Train\")\n",
    "plt.plot(np.linspace(0, 100, 10), test_report.accuracy, '.', mfc=\"None\", label=\"Test\")\n",
    "plt.xlabel(\"Epoch\")\n",
    "plt.ylabel(\"Accuracy\")\n",
    "plt.show()"
   ]
  }
 ],
 "metadata": {
  "kernelspec": {
   "display_name": "Python 3 (ipykernel)",
   "language": "python",
   "name": "python3"
  },
  "language_info": {
   "codemirror_mode": {
    "name": "ipython",
    "version": 3
   },
   "file_extension": ".py",
   "mimetype": "text/x-python",
   "name": "python",
   "nbconvert_exporter": "python",
   "pygments_lexer": "ipython3",
   "version": "3.8.12"
  }
 },
 "nbformat": 4,
 "nbformat_minor": 5
}
