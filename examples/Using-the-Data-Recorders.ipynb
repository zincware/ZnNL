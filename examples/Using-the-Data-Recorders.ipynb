{
 "cells": [
  {
   "cell_type": "markdown",
   "id": "2c522a05",
   "metadata": {},
   "source": [
    "# Using Data Recorders\n",
    "\n",
    "As ZnRND is at its core a package for scientific development, it comes with a powerfull data recording module which is demonstrated here."
   ]
  },
  {
   "cell_type": "code",
   "execution_count": 2,
   "id": "f4f62b3c",
   "metadata": {},
   "outputs": [],
   "source": [
    "import os\n",
    "os.environ[\"CUDA_VISIBLE_DEVICES\"] = \"-1\"\n",
    "\n",
    "\n",
    "import znrnd as rnd\n",
    "import numpy as np\n",
    "\n",
    "import matplotlib.pyplot as plt\n",
    "\n",
    "from neural_tangents import stax\n",
    "import optax"
   ]
  },
  {
   "cell_type": "markdown",
   "id": "aad7b959",
   "metadata": {},
   "source": [
    "## Create a Data Generator\n",
    "\n",
    "The first thing we need to do is create a data generator for the problem."
   ]
  },
  {
   "cell_type": "code",
   "execution_count": 6,
   "id": "c8029770",
   "metadata": {},
   "outputs": [],
   "source": [
    "data_generator = rnd.data.MNISTGenerator()"
   ]
  },
  {
   "cell_type": "markdown",
   "id": "8a967968",
   "metadata": {},
   "source": [
    "## Define the Network"
   ]
  },
  {
   "cell_type": "code",
   "execution_count": 7,
   "id": "772667ec",
   "metadata": {},
   "outputs": [],
   "source": [
    "network = stax.serial(\n",
    "    stax.Flatten(),\n",
    "    stax.Dense(128),\n",
    "    stax.Relu(),\n",
    "    stax.Dense(10)\n",
    ")"
   ]
  },
  {
   "cell_type": "markdown",
   "id": "107d0c5c",
   "metadata": {},
   "source": [
    "## Define the Data Recorders\n",
    "\n",
    "In this case I want to track test and train data but at different intervals."
   ]
  },
  {
   "cell_type": "code",
   "execution_count": 8,
   "id": "9135b7ff",
   "metadata": {},
   "outputs": [],
   "source": [
    "train_recorder = rnd.model_recording.JaxRecorder(\n",
    "    name=\"train_recorder\",\n",
    "    loss=True,\n",
    "    accuracy=True,\n",
    "    update_rate=1\n",
    ")\n",
    "test_recorder = rnd.model_recording.JaxRecorder(\n",
    "    name=\"test_recorder\",\n",
    "    loss=True,\n",
    "    accuracy=True,\n",
    "    update_rate=10\n",
    ")"
   ]
  },
  {
   "cell_type": "markdown",
   "id": "10e3e667-46b1-46e7-926f-8731dd963f9f",
   "metadata": {
    "tags": []
   },
   "source": [
    "## Create Model and Prepare Recording\n",
    "\n",
    "Before we train, we need to create a model and prepare the recorders. In this time, we add data and a model to the recorders. Note, any data can be added to the recorders here, even validation data."
   ]
  },
  {
   "cell_type": "code",
   "execution_count": 9,
   "id": "2868daf4",
   "metadata": {},
   "outputs": [],
   "source": [
    "production_model = rnd.models.NTModel(\n",
    "            nt_module=network,\n",
    "            optimizer=optax.adam(learning_rate=0.01),\n",
    "            input_shape=(1, 28, 28, 1),\n",
    "        )"
   ]
  },
  {
   "cell_type": "code",
   "execution_count": 10,
   "id": "eebca8d4",
   "metadata": {},
   "outputs": [],
   "source": [
    "train_recorder.instantiate_recorder(\n",
    "    data_set=data_generator.train_ds\n",
    ")\n",
    "test_recorder.instantiate_recorder(\n",
    "    data_set=data_generator.test_ds\n",
    ")"
   ]
  },
  {
   "cell_type": "markdown",
   "id": "666ecd17-d9b0-45d9-8a4c-37d867d90b42",
   "metadata": {
    "tags": []
   },
   "source": [
    "## Create a training strategy\n",
    "\n",
    "In order to train a model, we have to define a strategy how to train. \n",
    "The recorders and the model are an input to the strategy, as they record how the model trains.  "
   ]
  },
  {
   "cell_type": "code",
   "execution_count": 11,
   "id": "be121ebb-ab3e-4d17-a5a3-f174430d6c4f",
   "metadata": {},
   "outputs": [],
   "source": [
    "training_strategy = rnd.training_strategies.SimpleTraining(\n",
    "    model=production_model, \n",
    "    loss_fn=rnd.loss_functions.CrossEntropyLoss(),\n",
    "    accuracy_fn=rnd.accuracy_functions.LabelAccuracy(),\n",
    "    recorders=[train_recorder, test_recorder]\n",
    ")"
   ]
  },
  {
   "cell_type": "markdown",
   "id": "116565b9-8d6e-4d5d-92ed-fdebaf15ee4e",
   "metadata": {},
   "source": [
    "## Train the model"
   ]
  },
  {
   "cell_type": "code",
   "execution_count": 12,
   "id": "2ec38476",
   "metadata": {},
   "outputs": [
    {
     "name": "stderr",
     "output_type": "stream",
     "text": [
      "Epoch: 100: 100%|███████████████████████████████| 100/100 [00:06<00:00, 14.93batch/s, accuracy=0.88]\n"
     ]
    }
   ],
   "source": [
    "batch_wise_loss = training_strategy.train_model(\n",
    "    train_ds=data_generator.train_ds,\n",
    "    test_ds=data_generator.test_ds,\n",
    "    batch_size=32,\n",
    "    recorders=[train_recorder, test_recorder],\n",
    "    epochs=100\n",
    ")"
   ]
  },
  {
   "cell_type": "markdown",
   "id": "4b72948a",
   "metadata": {},
   "source": [
    "## Checking the Results\n",
    "\n",
    "Now let's use the export function of the reporter to get access to an easy to plot dataclass with all of the metrics we recorded."
   ]
  },
  {
   "cell_type": "code",
   "execution_count": 14,
   "id": "d6af0173",
   "metadata": {},
   "outputs": [],
   "source": [
    "train_report = train_recorder.gather_recording()\n",
    "test_report = test_recorder.gather_recording()"
   ]
  },
  {
   "cell_type": "code",
   "execution_count": 15,
   "id": "b2379642",
   "metadata": {},
   "outputs": [
    {
     "data": {
      "image/png": "[encoded data removed]",
      "text/plain": [
       "<Figure size 432x288 with 1 Axes>"
      ]
     },
     "metadata": {
      "needs_background": "light"
     },
     "output_type": "display_data"
    }
   ],
   "source": [
    "plt.plot(train_report.loss, 'o', mfc='None', label=\"Train\")\n",
    "plt.plot(np.linspace(0, 100, 10), test_report.loss, '.', mfc=\"None\", label=\"Test\")\n",
    "plt.xlabel(\"Epoch\")\n",
    "plt.ylabel(\"Loss\")\n",
    "plt.legend()\n",
    "plt.show()"
   ]
  },
  {
   "cell_type": "code",
   "execution_count": 16,
   "id": "be72c4e9",
   "metadata": {},
   "outputs": [
    {
     "data": {
      "image/png": "[encoded data removed]",
      "text/plain": [
       "<Figure size 432x288 with 1 Axes>"
      ]
     },
     "metadata": {
      "needs_background": "light"
     },
     "output_type": "display_data"
    }
   ],
   "source": [
    "plt.plot(train_report.accuracy, 'o', mfc='None', label=\"Train\")\n",
    "plt.plot(np.linspace(0, 100, 10), test_report.accuracy, '.', mfc=\"None\", label=\"Test\")\n",
    "plt.xlabel(\"Epoch\")\n",
    "plt.ylabel(\"Accuracy\")\n",
    "plt.legend()\n",
    "plt.show()"
   ]
  },
  {
   "cell_type": "markdown",
   "id": "31c066fe-064a-4d89-bb9a-d07113c20aed",
   "metadata": {},
   "source": [
    "# Exporting the Data\n",
    "\n",
    "The final thing to do is export the data to a persistant format. During training, this is partially done automatically. However, the recorders have no way of knowing when training is finished and therefore, you should always run the following to make sure the last of your saved data is put into the database before ending the session."
   ]
  },
  {
   "cell_type": "code",
   "execution_count": 17,
   "id": "cdd81a2b-0170-4bd7-8a47-eb255092c767",
   "metadata": {},
   "outputs": [],
   "source": [
    "train_recorder.dump_records()\n",
    "test_recorder.dump_records()"
   ]
  }
 ],
 "metadata": {
  "kernelspec": {
   "display_name": "Python 3 (ipykernel)",
   "language": "python",
   "name": "python3"
  },
  "language_info": {
   "codemirror_mode": {
    "name": "ipython",
    "version": 3
   },
   "file_extension": ".py",
   "mimetype": "text/x-python",
   "name": "python",
   "nbconvert_exporter": "python",
   "pygments_lexer": "ipython3",
   "version": "3.9.5"
  }
 },
 "nbformat": 4,
 "nbformat_minor": 5
}
