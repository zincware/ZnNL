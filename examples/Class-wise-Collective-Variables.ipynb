{
 "cells": [
  {
   "cell_type": "markdown",
   "id": "f24f6116",
   "metadata": {},
   "source": [
    "# Computing Collective Variables of the NTK for each Class\n",
    "\n",
    "This Notebook is a continuation of the notebook `Computing-NTK-Collective-Variables.ipynb`. \n",
    "In this notebook, we will compute the collective variables of the NTK for each class individually. \n",
    "This allows one to study the neural network training in a class-specific manner. \n",
    "\n",
    "Moreover, this script also illustrates how to compute entropies between labels each class via the NTK. \n",
    "\n",
    "These aspects will be shown using the MNIST dataset.\n"
   ]
  },
  {
   "cell_type": "code",
   "execution_count": null,
   "id": "f4f62b3c",
   "metadata": {},
   "outputs": [],
   "source": [
    "import znnl as nl\n",
    "\n",
    "import tensorflow_datasets as tfds\n",
    "\n",
    "import numpy as np\n",
    "from flax import linen as nn\n",
    "import optax\n",
    "\n",
    "from jax.lib import xla_bridge\n",
    "\n",
    "import matplotlib.pyplot as plt\n",
    "\n",
    "print(f\"Using: {xla_bridge.get_backend().platform}\")"
   ]
  },
  {
   "cell_type": "markdown",
   "id": "aad7b959",
   "metadata": {},
   "source": [
    "### Define the Datasets"
   ]
  },
  {
   "cell_type": "code",
   "execution_count": null,
   "id": "c8029770",
   "metadata": {},
   "outputs": [],
   "source": [
    "data_generator = nl.data.MNISTGenerator(500)\n",
    "\n",
    "\n",
    "# Create NTK data set by selecting only classes 0 to 3\n",
    "inputs = data_generator.train_ds[\"inputs\"]\n",
    "targets = data_generator.train_ds[\"targets\"]\n",
    "\n",
    "selection_idx_012 = np.where(np.argmax(targets, axis=1) < 3)[0]\n",
    "selection_idx_0 = np.where(np.argmax(targets, axis=1) == 7)[0]\n",
    "selection_idx = np.concatenate((selection_idx_012, selection_idx_0))\n",
    "selection_idx = np.random.permutation(selection_idx)\n",
    "ntk_inputs = inputs[selection_idx]\n",
    "ntk_targets = targets[selection_idx]\n",
    "\n",
    "# Quick check\n",
    "print(f\"Original data set shape: {inputs.shape}\")\n",
    "assert np.argmax(ntk_targets, axis=1).max() == 7 #3\n",
    "\n",
    "# Set new attribute ntk_ds\n",
    "ntk_ds = {\n",
    "    \"inputs\": ntk_inputs[:50],\n",
    "    \"targets\": ntk_targets[:50]\n",
    "}\n",
    "setattr(data_generator, \"ntk_ds\", ntk_ds)\n",
    "print(f\"NTK data set shape: {data_generator.ntk_ds['inputs'].shape}\")"
   ]
  },
  {
   "cell_type": "markdown",
   "id": "8a967968",
   "metadata": {},
   "source": [
    "### Setup the Model"
   ]
  },
  {
   "cell_type": "code",
   "execution_count": null,
   "id": "772667ec",
   "metadata": {},
   "outputs": [],
   "source": [
    "class Architecture(nn.Module):\n",
    "    \"\"\"\n",
    "    Simple CNN module.\n",
    "    \"\"\"\n",
    "    @nn.compact\n",
    "    def __call__(self, x):\n",
    "        x = x.reshape((x.shape[0], -1))  # flatten\n",
    "        x = nn.Dense(features=32)(x)\n",
    "        x = nn.relu(x)\n",
    "        x = nn.Dense(features=32)(x)\n",
    "        x = nn.relu(x)\n",
    "        x = nn.Dense(features=10)(x)\n",
    "        return x"
   ]
  },
  {
   "cell_type": "code",
   "execution_count": null,
   "id": "2868daf4",
   "metadata": {},
   "outputs": [],
   "source": [
    "model = nl.models.FlaxModel(\n",
    "    flax_module=Architecture(),\n",
    "    optimizer=optax.sgd(learning_rate=0.01, momentum=0.9),\n",
    "    input_shape=(1, 28, 28, 1),\n",
    "    trace_axes=(),\n",
    ")"
   ]
  },
  {
   "cell_type": "code",
   "execution_count": null,
   "id": "e8294ab2",
   "metadata": {},
   "outputs": [],
   "source": [
    "ntk_recorder = nl.training_recording.JaxRecorder(\n",
    "    name=\"ntk_recorder\",\n",
    "    class_specific=True,\n",
    "    entropy_class_correlations=True, \n",
    "    ntk=True,\n",
    "    loss=True,\n",
    "    covariance_entropy=True,\n",
    "    magnitude_variance=True, \n",
    "    trace=True,\n",
    "    eigenvalues=True,\n",
    "    loss_derivative=True,\n",
    "    update_rate=1, \n",
    "    chunk_size=1e5\n",
    ")\n",
    "ntk_recorder.instantiate_recorder(\n",
    "    data_set=data_generator.ntk_ds\n",
    ")\n",
    "\n",
    "train_recorder = nl.training_recording.JaxRecorder(\n",
    "    name=\"train_recorder\",\n",
    "    loss=True,\n",
    "    update_rate=1, \n",
    "    chunk_size=1e5\n",
    ")\n",
    "train_recorder.instantiate_recorder(\n",
    "    data_set=data_generator.train_ds\n",
    ")\n",
    "\n",
    "test_recorder = nl.training_recording.JaxRecorder(\n",
    "    name=\"test_recorder\",\n",
    "    accuracy=True,\n",
    "    loss=True,\n",
    "    update_rate=1, \n",
    "    chunk_size=1e5\n",
    ")\n",
    "test_recorder.instantiate_recorder(\n",
    "    data_set=data_generator.test_ds\n",
    ")"
   ]
  },
  {
   "cell_type": "code",
   "execution_count": null,
   "id": "ef557caa",
   "metadata": {},
   "outputs": [],
   "source": [
    "training_strategy = nl.training_strategies.SimpleTraining(\n",
    "    model=model, \n",
    "    loss_fn=nl.loss_functions.CrossEntropyLoss(),\n",
    "    accuracy_fn=nl.accuracy_functions.LabelAccuracy(),\n",
    "    recorders=[train_recorder, test_recorder, ntk_recorder],\n",
    ")"
   ]
  },
  {
   "cell_type": "code",
   "execution_count": null,
   "id": "8d2b1243",
   "metadata": {},
   "outputs": [],
   "source": [
    "# Show labels-combinations used to compute the inter-class entropy contributions.  \n",
    "ntk_recorder._class_combinations, ntk_recorder._class_idx"
   ]
  },
  {
   "cell_type": "code",
   "execution_count": null,
   "id": "bdf76fa3",
   "metadata": {},
   "outputs": [],
   "source": [
    "batched_training_metrics = training_strategy.train_model(\n",
    "    train_ds=data_generator.train_ds, \n",
    "    test_ds=data_generator.test_ds,\n",
    "    batch_size=128,\n",
    "    epochs=150,\n",
    ")"
   ]
  },
  {
   "cell_type": "markdown",
   "id": "eb0aea9d",
   "metadata": {},
   "source": [
    "### Checking the Results"
   ]
  },
  {
   "cell_type": "code",
   "execution_count": null,
   "id": "588e7c00",
   "metadata": {},
   "outputs": [],
   "source": [
    "train_report = train_recorder.gather_recording()\n",
    "test_report = test_recorder.gather_recording()\n",
    "ntk_report = ntk_recorder.gather_recording()"
   ]
  },
  {
   "cell_type": "code",
   "execution_count": null,
   "id": "cbf8985f",
   "metadata": {},
   "outputs": [],
   "source": [
    "# Plot loss and accuracy\n",
    "\n",
    "fig, ax = plt.subplots(1, 2, figsize=(12, 4))\n",
    "\n",
    "ax[0].plot(train_report.loss, label=\"Train\")\n",
    "ax[0].plot(test_report.loss, label=\"Test\")\n",
    "ax[0].set_title(\"Loss\")\n",
    "ax[0].legend()\n",
    "ax[0].set_yscale(\"log\")\n",
    "\n",
    "ax[1].plot(test_report.accuracy, label=\"Test\")\n",
    "ax[1].set_title(\"Accuracy\")\n",
    "ax[1].legend()\n",
    "\n",
    "\n"
   ]
  },
  {
   "cell_type": "code",
   "execution_count": null,
   "id": "5156b2b8",
   "metadata": {},
   "outputs": [],
   "source": [
    "# Read class specific (cs) data from the ntk_recorder\n",
    "\n",
    "trace_cs = ntk_recorder.read_class_specific_data(ntk_report.trace)\n",
    "covariance_entropy_cs = ntk_recorder.read_class_specific_data(ntk_report.covariance_entropy)\n",
    "\n",
    "# Reading out the eigenvalues works the same way\n",
    "eigenvalues_cs = ntk_recorder.read_class_specific_data(ntk_report.eigenvalues) \n",
    "\n",
    "\n",
    "# Plot the class specific entropy and trace \n",
    "\n",
    "cmap = plt.get_cmap('rainbow')\n",
    "\n",
    "fig, axs = plt.subplots(1, 2, figsize=(12, 4))\n",
    "\n",
    "for i, l in enumerate([0, 1, 2, 7]):\n",
    "    axs[0].plot(covariance_entropy_cs[l], '-', mfc='Entropy', label=f\"Train {l}\", color=cmap(i/3))\n",
    "    axs[1].plot(trace_cs[l], '--', mfc='Trace', label=f\"Train {l}\", color=cmap(i/3))\n",
    "\n",
    "axs[0].set_xlabel(\"Epoch\")\n",
    "axs[1].set_xlabel(\"Epoch\")\n",
    "axs[0].set_ylabel(\"Entropy\")\n",
    "axs[1].set_ylabel(\"Trace\")\n",
    "\n",
    "# Colorbar with integer ticks\n",
    "cbar = fig.colorbar(plt.cm.ScalarMappable(cmap=cmap), ax=axs, orientation='vertical')\n",
    "cbar.set_ticks([0, 1/3, 2/3, 1])\n",
    "cbar.set_ticklabels([0, 1, 2, 7])\n",
    "\n",
    "plt.show()\n",
    "\n",
    "\n",
    "# 7 Is missing!!! Why?"
   ]
  },
  {
   "cell_type": "code",
   "execution_count": null,
   "id": "0ac60562-0c92-4d74-b0e3-ce2d9230b4f0",
   "metadata": {},
   "outputs": [],
   "source": [
    "# Plot entropy contributions of each class, as well as between class correlations\n",
    "\n",
    "cmap = plt.get_cmap('rainbow')\n",
    "\n",
    "entropies = np.array(ntk_recorder._entropy_class_correlations_array)\n",
    "\n",
    "fig, axs = plt.subplots(1, 2, figsize=(12, 4), tight_layout=True)\n",
    "\n",
    "# for i in range(3):\n",
    "#     axs[0].plot(entropies[:, i+4] - entropies[:, i], '-',  label=f\"S(0 - {i+1})\", color=cmap(i/2))\n",
    "#     # axs[0].plot(entropies[:, i], '--',  label=f\"S({i})\", color=cmap(i/2))\n",
    "#     # axs[0].plot(entropies[:, i+4], '_',  label=f\"S(0 + {i+1})\", color=cmap(i/2), alpha=0.4)\n",
    "\n",
    "axs[0].set_xlabel(\"Epoch\")\n",
    "axs[0].set_ylabel(\"Entropy\")\n",
    "# # Put legend outside of plot\n",
    "# axs[0].legend(loc='center left', bbox_to_anchor=(1, 0.5))\n",
    "\n",
    "axs[1].plot(entropies[:, :4].sum(axis=1)/4, '-', label=r'$S_{sub} = S(1) + S(2) + S(3) + S(4)$')\n",
    "axs[1].plot(entropies[:, -1], '--', label=r'$S_{sys} = S(1 + 2 + 3 + 4)$')\n",
    "axs[0].plot(entropies[:, :4].sum(axis=1)/4 - entropies[:,-1], '--', label=r'$S_{sub} - S_{sys}$')\n",
    "axs[0].legend()\n",
    "axs[1].set_xlabel(\"Epoch\")  \n",
    "axs[1].legend()"
   ]
  },
  {
   "cell_type": "code",
   "execution_count": null,
   "id": "9cd531f1",
   "metadata": {},
   "outputs": [],
   "source": [
    "# Plot the mutual information between the classes\n",
    "\n",
    "cmap = plt.get_cmap('rainbow')\n",
    "\n",
    "fig, axs = plt.subplots(1, 3, figsize=(12, 4), tight_layout=True, sharey=True)\n",
    "\n",
    "# axs[0].plot(entropies[:, 0] + entropies[:, i] - entropies[:, i+4], '-',  label=f\"Mutual Info (0, {i+1})\", color=cmap(i/2))\n",
    "\n",
    "axs[0].plot((entropies[:, 0] + entropies[:, 1])/2 - entropies[:, 4], '-',  label=f\"Mutual Info (0, 1)\", color=cmap(0))\n",
    "axs[0].plot((entropies[:, 0] + entropies[:, 2])/2 - entropies[:, 5], '-',  label=f\"Mutual Info (0, 2)\", color=cmap(1/3))\n",
    "axs[0].plot((entropies[:, 0] + entropies[:, 3])/2 - entropies[:, 6], '-',  label=f\"Mutual Info (0, 7)\", color=cmap(2/3))\n",
    "axs[0].legend()\n",
    "\n",
    "axs[1].plot((entropies[:, 1] + entropies[:, 2])/2 - entropies[:, 7], '-',  label=f\"Mutual Info (1, 2)\", color=cmap(0))\n",
    "axs[1].plot((entropies[:, 1] + entropies[:, 3])/2 - entropies[:, 8], '-',  label=f\"Mutual Info (1, 7)\", color=cmap(1/3))\n",
    "axs[1].plot((entropies[:, 0] + entropies[:, 1])/2 - entropies[:, 4], '-',  label=f\"Mutual Info (0, 1)\", color=cmap(2/3))\n",
    "axs[1].legend()\n",
    "\n",
    "axs[2].plot((entropies[:, 2] + entropies[:, 3])/2 - entropies[:, 9], '-',  label=f\"Mutual Info (2, 7)\", color=cmap(0))\n",
    "axs[2].plot((entropies[:, 0] + entropies[:, 2])/2 - entropies[:, 5], '-',  label=f\"Mutual Info (0, 2)\", color=cmap(1/3))\n",
    "axs[2].plot((entropies[:, 1] + entropies[:, 3])/2 - entropies[:, 8], '-',  label=f\"Mutual Info (1, 7)\", color=cmap(2/3))\n",
    "axs[2].legend()\n",
    "\n",
    "axs[0].set_xlabel(\"Epoch\")\n",
    "axs[1].set_xlabel(\"Epoch\")\n",
    "axs[2].set_xlabel(\"Epoch\")\n",
    "axs[0].set_ylabel(\"Mutual Information\")\n"
   ]
  },
  {
   "cell_type": "code",
   "execution_count": null,
   "id": "dc832d0d",
   "metadata": {},
   "outputs": [],
   "source": []
  },
  {
   "cell_type": "code",
   "execution_count": null,
   "id": "652a3419",
   "metadata": {},
   "outputs": [],
   "source": []
  }
 ],
 "metadata": {
  "kernelspec": {
   "display_name": "Python 3 (ipykernel)",
   "language": "python",
   "name": "python3"
  },
  "language_info": {
   "codemirror_mode": {
    "name": "ipython",
    "version": 3
   },
   "file_extension": ".py",
   "mimetype": "text/x-python",
   "name": "python",
   "nbconvert_exporter": "python",
   "pygments_lexer": "ipython3",
   "version": "3.10.12"
  }
 },
 "nbformat": 4,
 "nbformat_minor": 5
}
